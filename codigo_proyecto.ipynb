{
 "cells": [
  {
   "cell_type": "code",
   "execution_count": 1,
   "metadata": {
    "colab": {
     "base_uri": "https://localhost:8080/"
    },
    "executionInfo": {
     "elapsed": 10158,
     "status": "ok",
     "timestamp": 1621881654232,
     "user": {
      "displayName": "Lucia Merlo",
      "photoUrl": "https://lh3.googleusercontent.com/a-/AOh14GjoM3JGHSGTNe8FpnapRVZVepjE6IyPNNT9DOocgQ=s64",
      "userId": "10178920981326777222"
     },
     "user_tz": -120
    },
    "id": "b0kvPNCAbGAN",
    "outputId": "ed8eced4-a7ea-4424-b250-7a312aa7a9e9"
   },
   "outputs": [
    {
     "name": "stdout",
     "output_type": "stream",
     "text": [
      "Collecting es_core_news_sm==2.2.5\n",
      "\u001b[?25l  Downloading https://github.com/explosion/spacy-models/releases/download/es_core_news_sm-2.2.5/es_core_news_sm-2.2.5.tar.gz (16.2MB)\n",
      "\u001b[K     |████████████████████████████████| 16.2MB 16.8MB/s \n",
      "\u001b[?25hRequirement already satisfied: spacy>=2.2.2 in /usr/local/lib/python3.7/dist-packages (from es_core_news_sm==2.2.5) (2.2.4)\n",
      "Requirement already satisfied: wasabi<1.1.0,>=0.4.0 in /usr/local/lib/python3.7/dist-packages (from spacy>=2.2.2->es_core_news_sm==2.2.5) (0.8.2)\n",
      "Requirement already satisfied: preshed<3.1.0,>=3.0.2 in /usr/local/lib/python3.7/dist-packages (from spacy>=2.2.2->es_core_news_sm==2.2.5) (3.0.5)\n",
      "Requirement already satisfied: blis<0.5.0,>=0.4.0 in /usr/local/lib/python3.7/dist-packages (from spacy>=2.2.2->es_core_news_sm==2.2.5) (0.4.1)\n",
      "Requirement already satisfied: thinc==7.4.0 in /usr/local/lib/python3.7/dist-packages (from spacy>=2.2.2->es_core_news_sm==2.2.5) (7.4.0)\n",
      "Requirement already satisfied: catalogue<1.1.0,>=0.0.7 in /usr/local/lib/python3.7/dist-packages (from spacy>=2.2.2->es_core_news_sm==2.2.5) (1.0.0)\n",
      "Requirement already satisfied: cymem<2.1.0,>=2.0.2 in /usr/local/lib/python3.7/dist-packages (from spacy>=2.2.2->es_core_news_sm==2.2.5) (2.0.5)\n",
      "Requirement already satisfied: tqdm<5.0.0,>=4.38.0 in /usr/local/lib/python3.7/dist-packages (from spacy>=2.2.2->es_core_news_sm==2.2.5) (4.41.1)\n",
      "Requirement already satisfied: requests<3.0.0,>=2.13.0 in /usr/local/lib/python3.7/dist-packages (from spacy>=2.2.2->es_core_news_sm==2.2.5) (2.23.0)\n",
      "Requirement already satisfied: srsly<1.1.0,>=1.0.2 in /usr/local/lib/python3.7/dist-packages (from spacy>=2.2.2->es_core_news_sm==2.2.5) (1.0.5)\n",
      "Requirement already satisfied: murmurhash<1.1.0,>=0.28.0 in /usr/local/lib/python3.7/dist-packages (from spacy>=2.2.2->es_core_news_sm==2.2.5) (1.0.5)\n",
      "Requirement already satisfied: setuptools in /usr/local/lib/python3.7/dist-packages (from spacy>=2.2.2->es_core_news_sm==2.2.5) (56.1.0)\n",
      "Requirement already satisfied: numpy>=1.15.0 in /usr/local/lib/python3.7/dist-packages (from spacy>=2.2.2->es_core_news_sm==2.2.5) (1.19.5)\n",
      "Requirement already satisfied: plac<1.2.0,>=0.9.6 in /usr/local/lib/python3.7/dist-packages (from spacy>=2.2.2->es_core_news_sm==2.2.5) (1.1.3)\n",
      "Requirement already satisfied: importlib-metadata>=0.20; python_version < \"3.8\" in /usr/local/lib/python3.7/dist-packages (from catalogue<1.1.0,>=0.0.7->spacy>=2.2.2->es_core_news_sm==2.2.5) (4.0.1)\n",
      "Requirement already satisfied: certifi>=2017.4.17 in /usr/local/lib/python3.7/dist-packages (from requests<3.0.0,>=2.13.0->spacy>=2.2.2->es_core_news_sm==2.2.5) (2020.12.5)\n",
      "Requirement already satisfied: idna<3,>=2.5 in /usr/local/lib/python3.7/dist-packages (from requests<3.0.0,>=2.13.0->spacy>=2.2.2->es_core_news_sm==2.2.5) (2.10)\n",
      "Requirement already satisfied: urllib3!=1.25.0,!=1.25.1,<1.26,>=1.21.1 in /usr/local/lib/python3.7/dist-packages (from requests<3.0.0,>=2.13.0->spacy>=2.2.2->es_core_news_sm==2.2.5) (1.24.3)\n",
      "Requirement already satisfied: chardet<4,>=3.0.2 in /usr/local/lib/python3.7/dist-packages (from requests<3.0.0,>=2.13.0->spacy>=2.2.2->es_core_news_sm==2.2.5) (3.0.4)\n",
      "Requirement already satisfied: zipp>=0.5 in /usr/local/lib/python3.7/dist-packages (from importlib-metadata>=0.20; python_version < \"3.8\"->catalogue<1.1.0,>=0.0.7->spacy>=2.2.2->es_core_news_sm==2.2.5) (3.4.1)\n",
      "Requirement already satisfied: typing-extensions>=3.6.4; python_version < \"3.8\" in /usr/local/lib/python3.7/dist-packages (from importlib-metadata>=0.20; python_version < \"3.8\"->catalogue<1.1.0,>=0.0.7->spacy>=2.2.2->es_core_news_sm==2.2.5) (3.7.4.3)\n",
      "Building wheels for collected packages: es-core-news-sm\n",
      "  Building wheel for es-core-news-sm (setup.py) ... \u001b[?25l\u001b[?25hdone\n",
      "  Created wheel for es-core-news-sm: filename=es_core_news_sm-2.2.5-cp37-none-any.whl size=16172936 sha256=893c75cda5186cac9ec533027dc0d67a7557db8ae2e371e5a3eb2bb6ff19a309\n",
      "  Stored in directory: /tmp/pip-ephem-wheel-cache-qi4rz700/wheels/05/4f/66/9d0c806f86de08e8645d67996798c49e1512f9c3a250d74242\n",
      "Successfully built es-core-news-sm\n",
      "Installing collected packages: es-core-news-sm\n",
      "Successfully installed es-core-news-sm-2.2.5\n",
      "\u001b[38;5;2m✔ Download and installation successful\u001b[0m\n",
      "You can now load the model via spacy.load('es_core_news_sm')\n"
     ]
    }
   ],
   "source": [
    "!spacy download es_core_news_sm"
   ]
  },
  {
   "cell_type": "code",
   "execution_count": 1,
   "metadata": {
    "executionInfo": {
     "elapsed": 2100,
     "status": "ok",
     "timestamp": 1621881693238,
     "user": {
      "displayName": "Lucia Merlo",
      "photoUrl": "https://lh3.googleusercontent.com/a-/AOh14GjoM3JGHSGTNe8FpnapRVZVepjE6IyPNNT9DOocgQ=s64",
      "userId": "10178920981326777222"
     },
     "user_tz": -120
    },
    "id": "yYL1IS2JbbWh"
   },
   "outputs": [],
   "source": [
    "import spacy\n",
    "nlp = spacy.load('es_core_news_sm')"
   ]
  },
  {
   "cell_type": "code",
   "execution_count": 2,
   "metadata": {
    "colab": {
     "base_uri": "https://localhost:8080/"
    },
    "executionInfo": {
     "elapsed": 2026,
     "status": "ok",
     "timestamp": 1621881697701,
     "user": {
      "displayName": "Lucia Merlo",
      "photoUrl": "https://lh3.googleusercontent.com/a-/AOh14GjoM3JGHSGTNe8FpnapRVZVepjE6IyPNNT9DOocgQ=s64",
      "userId": "10178920981326777222"
     },
     "user_tz": -120
    },
    "id": "Vu6VCYlSac2A",
    "outputId": "a21be8cf-3a9b-456f-c5ed-37dc2ddcb78d"
   },
   "outputs": [
    {
     "name": "stdout",
     "output_type": "stream",
     "text": [
      "[nltk_data] Downloading package wordnet to /root/nltk_data...\n",
      "[nltk_data]   Unzipping corpora/wordnet.zip.\n",
      "[nltk_data] Downloading package stopwords to /root/nltk_data...\n",
      "[nltk_data]   Unzipping corpora/stopwords.zip.\n",
      "[nltk_data] Downloading package punkt to /root/nltk_data...\n",
      "[nltk_data]   Unzipping tokenizers/punkt.zip.\n",
      "[nltk_data] Error loading : Package '' not found in index\n"
     ]
    }
   ],
   "source": [
    "# Procesamiento texto\n",
    "\n",
    "#pip install TextBlob\n",
    "#pip install spacy\n",
    "import nltk\n",
    "nltk.download('wordnet')\n",
    "nltk.download('stopwords')\n",
    "nltk.download('punkt')\n",
    "from nltk.stem.porter import PorterStemmer\n",
    "nltk.download('')\n",
    "import pandas as pd\n",
    "import re\n",
    "from nltk.tokenize import RegexpTokenizer\n",
    "from nltk.corpus import stopwords\n",
    "from nltk.stem.wordnet import WordNetLemmatizer\n",
    "from nltk.stem import WordNetLemmatizer\n",
    "from sklearn.feature_extraction.text import CountVectorizer, TfidfTransformer, TfidfVectorizer\n",
    "from nltk.stem import PorterStemmer\n",
    "from nltk import SnowballStemmer\n",
    "from textblob import TextBlob\n",
    "import string\n",
    "\n",
    "\n",
    "\n",
    "# Modelos\n",
    "from sklearn.model_selection import train_test_split\n",
    "from sklearn import tree\n",
    "from sklearn.metrics import confusion_matrix\n",
    "from sklearn.metrics import classification_report\n",
    "from sklearn.metrics import accuracy_score\n",
    "from sklearn import svm\n",
    "from sklearn.linear_model import LogisticRegression\n",
    "from sklearn.neural_network import MLPClassifier\n",
    "from sklearn.neighbors import KNeighborsClassifier\n",
    "\n",
    "# Métricas\n",
    "from sklearn.model_selection import cross_val_score\n",
    "from sklearn import metrics\n",
    "from sklearn.model_selection import GridSearchCV\n",
    "from sklearn.model_selection import RandomizedSearchCV\n",
    "\n",
    "from sklearn.metrics import f1_score\n",
    "from scipy.stats import pearsonr\n",
    "from sklearn.model_selection import StratifiedKFold"
   ]
  },
  {
   "cell_type": "markdown",
   "metadata": {
    "id": "LjWlWaOSac1_"
   },
   "source": [
    "## Librerías"
   ]
  },
  {
   "cell_type": "markdown",
   "metadata": {
    "id": "LWfxdRUHac2B"
   },
   "source": [
    "## Carga de los datos"
   ]
  },
  {
   "cell_type": "code",
   "execution_count": 4,
   "metadata": {
    "executionInfo": {
     "elapsed": 358,
     "status": "ok",
     "timestamp": 1621881755092,
     "user": {
      "displayName": "Lucia Merlo",
      "photoUrl": "https://lh3.googleusercontent.com/a-/AOh14GjoM3JGHSGTNe8FpnapRVZVepjE6IyPNNT9DOocgQ=s64",
      "userId": "10178920981326777222"
     },
     "user_tz": -120
    },
    "id": "IPspue-Rac2B"
   },
   "outputs": [],
   "source": [
    "df = pd.read_csv(\"train 2.csv\") "
   ]
  },
  {
   "cell_type": "code",
   "execution_count": null,
   "metadata": {
    "colab": {
     "base_uri": "https://localhost:8080/"
    },
    "executionInfo": {
     "elapsed": 207,
     "status": "ok",
     "timestamp": 1621856749602,
     "user": {
      "displayName": "Nora hl",
      "photoUrl": "https://lh3.googleusercontent.com/a-/AOh14Gjjm3p-SOF1W7ydI9Pd8nSkMWV-18RpOyooiyZ_=s64",
      "userId": "04992732489427498123"
     },
     "user_tz": -120
    },
    "id": "AUTutOACac2C",
    "outputId": "efd082b2-cd8d-46f9-fec1-3645017c8449"
   },
   "outputs": [
    {
     "data": {
      "text/plain": [
       "0                             Pensó: Zumo para restar.\n",
       "1     Como les gusta el afeitado en seco a esta gente.\n",
       "2    asi me gusta, que se maten entre ellos y en al...\n",
       "3    Loss mas valientes, los que mejor cortan nuest...\n",
       "4                                        Costumbres...\n",
       "5    lastima que no se volvio loco del todo y se su...\n",
       "6    los mejores mas preparados para cortar calabac...\n",
       "7                                   Los más preparados\n",
       "8    hombre preparado viene para currar en un matad...\n",
       "9            Los detuvieron en ronda malaga, un saludo\n",
       "Name: comment, dtype: object"
      ]
     },
     "execution_count": 5,
     "metadata": {
      "tags": []
     },
     "output_type": "execute_result"
    }
   ],
   "source": [
    "df.loc[:,'comment'].head(10)"
   ]
  },
  {
   "cell_type": "code",
   "execution_count": null,
   "metadata": {
    "id": "FHXS3I7eNj43"
   },
   "outputs": [],
   "source": [
    "df['preprocesado'] = df['comment']"
   ]
  },
  {
   "cell_type": "code",
   "execution_count": null,
   "metadata": {
    "colab": {
     "base_uri": "https://localhost:8080/"
    },
    "executionInfo": {
     "elapsed": 347,
     "status": "ok",
     "timestamp": 1621857581704,
     "user": {
      "displayName": "Nora hl",
      "photoUrl": "https://lh3.googleusercontent.com/a-/AOh14Gjjm3p-SOF1W7ydI9Pd8nSkMWV-18RpOyooiyZ_=s64",
      "userId": "04992732489427498123"
     },
     "user_tz": -120
    },
    "id": "fMmjOAdGNtOH",
    "outputId": "7e684c98-d284-4be9-a5dc-f65d74f9b415"
   },
   "outputs": [
    {
     "name": "stderr",
     "output_type": "stream",
     "text": [
      "/usr/local/lib/python3.7/dist-packages/ipykernel_launcher.py:2: SettingWithCopyWarning: \n",
      "A value is trying to be set on a copy of a slice from a DataFrame\n",
      "\n",
      "See the caveats in the documentation: https://pandas.pydata.org/pandas-docs/stable/user_guide/indexing.html#returning-a-view-versus-a-copy\n",
      "  \n"
     ]
    }
   ],
   "source": [
    "a = df['preprocesado']\n",
    "a[3] = '1234'"
   ]
  },
  {
   "cell_type": "code",
   "execution_count": null,
   "metadata": {
    "colab": {
     "base_uri": "https://localhost:8080/",
     "height": 445
    },
    "executionInfo": {
     "elapsed": 279,
     "status": "ok",
     "timestamp": 1621857585432,
     "user": {
      "displayName": "Nora hl",
      "photoUrl": "https://lh3.googleusercontent.com/a-/AOh14Gjjm3p-SOF1W7ydI9Pd8nSkMWV-18RpOyooiyZ_=s64",
      "userId": "04992732489427498123"
     },
     "user_tz": -120
    },
    "id": "mL2NPImLOCxV",
    "outputId": "73210f5b-856a-4efd-ed23-bd00299be867"
   },
   "outputs": [
    {
     "data": {
      "text/html": [
       "<div>\n",
       "<style scoped>\n",
       "    .dataframe tbody tr th:only-of-type {\n",
       "        vertical-align: middle;\n",
       "    }\n",
       "\n",
       "    .dataframe tbody tr th {\n",
       "        vertical-align: top;\n",
       "    }\n",
       "\n",
       "    .dataframe thead th {\n",
       "        text-align: right;\n",
       "    }\n",
       "</style>\n",
       "<table border=\"1\" class=\"dataframe\">\n",
       "  <thead>\n",
       "    <tr style=\"text-align: right;\">\n",
       "      <th></th>\n",
       "      <th>topic</th>\n",
       "      <th>thread_id</th>\n",
       "      <th>comment_id</th>\n",
       "      <th>reply_to</th>\n",
       "      <th>comment_level</th>\n",
       "      <th>comment</th>\n",
       "      <th>argumentation</th>\n",
       "      <th>constructiveness</th>\n",
       "      <th>positive_stance</th>\n",
       "      <th>negative_stance</th>\n",
       "      <th>target_person</th>\n",
       "      <th>target_group</th>\n",
       "      <th>stereotype</th>\n",
       "      <th>sarcasm</th>\n",
       "      <th>mockery</th>\n",
       "      <th>insult</th>\n",
       "      <th>improper_language</th>\n",
       "      <th>aggressiveness</th>\n",
       "      <th>intolerance</th>\n",
       "      <th>toxicity</th>\n",
       "      <th>toxicity_level</th>\n",
       "      <th>preprocesado</th>\n",
       "    </tr>\n",
       "  </thead>\n",
       "  <tbody>\n",
       "    <tr>\n",
       "      <th>0</th>\n",
       "      <td>CR</td>\n",
       "      <td>0_000</td>\n",
       "      <td>0_002</td>\n",
       "      <td>0_002</td>\n",
       "      <td>1</td>\n",
       "      <td>Pensó: Zumo para restar.</td>\n",
       "      <td>0</td>\n",
       "      <td>0</td>\n",
       "      <td>0</td>\n",
       "      <td>0</td>\n",
       "      <td>0</td>\n",
       "      <td>0</td>\n",
       "      <td>0</td>\n",
       "      <td>0</td>\n",
       "      <td>1</td>\n",
       "      <td>0</td>\n",
       "      <td>0</td>\n",
       "      <td>0</td>\n",
       "      <td>0</td>\n",
       "      <td>1</td>\n",
       "      <td>1</td>\n",
       "      <td>1234</td>\n",
       "    </tr>\n",
       "    <tr>\n",
       "      <th>1</th>\n",
       "      <td>CR</td>\n",
       "      <td>0_001</td>\n",
       "      <td>0_003</td>\n",
       "      <td>0_003</td>\n",
       "      <td>1</td>\n",
       "      <td>Como les gusta el afeitado en seco a esta gente.</td>\n",
       "      <td>0</td>\n",
       "      <td>0</td>\n",
       "      <td>0</td>\n",
       "      <td>0</td>\n",
       "      <td>0</td>\n",
       "      <td>1</td>\n",
       "      <td>1</td>\n",
       "      <td>1</td>\n",
       "      <td>1</td>\n",
       "      <td>0</td>\n",
       "      <td>0</td>\n",
       "      <td>0</td>\n",
       "      <td>0</td>\n",
       "      <td>1</td>\n",
       "      <td>1</td>\n",
       "      <td>aaa</td>\n",
       "    </tr>\n",
       "    <tr>\n",
       "      <th>2</th>\n",
       "      <td>CR</td>\n",
       "      <td>0_002</td>\n",
       "      <td>0_004</td>\n",
       "      <td>0_004</td>\n",
       "      <td>1</td>\n",
       "      <td>asi me gusta, que se maten entre ellos y en al...</td>\n",
       "      <td>0</td>\n",
       "      <td>0</td>\n",
       "      <td>0</td>\n",
       "      <td>0</td>\n",
       "      <td>0</td>\n",
       "      <td>1</td>\n",
       "      <td>0</td>\n",
       "      <td>0</td>\n",
       "      <td>0</td>\n",
       "      <td>0</td>\n",
       "      <td>0</td>\n",
       "      <td>1</td>\n",
       "      <td>1</td>\n",
       "      <td>1</td>\n",
       "      <td>2</td>\n",
       "      <td>ir ser malo</td>\n",
       "    </tr>\n",
       "    <tr>\n",
       "      <th>3</th>\n",
       "      <td>CR</td>\n",
       "      <td>0_003</td>\n",
       "      <td>0_005</td>\n",
       "      <td>0_005</td>\n",
       "      <td>1</td>\n",
       "      <td>Loss mas valientes, los que mejor cortan nuest...</td>\n",
       "      <td>0</td>\n",
       "      <td>0</td>\n",
       "      <td>0</td>\n",
       "      <td>0</td>\n",
       "      <td>1</td>\n",
       "      <td>1</td>\n",
       "      <td>0</td>\n",
       "      <td>1</td>\n",
       "      <td>1</td>\n",
       "      <td>0</td>\n",
       "      <td>0</td>\n",
       "      <td>0</td>\n",
       "      <td>0</td>\n",
       "      <td>1</td>\n",
       "      <td>1</td>\n",
       "      <td>1234</td>\n",
       "    </tr>\n",
       "    <tr>\n",
       "      <th>4</th>\n",
       "      <td>CR</td>\n",
       "      <td>0_004</td>\n",
       "      <td>0_006</td>\n",
       "      <td>0_006</td>\n",
       "      <td>1</td>\n",
       "      <td>Costumbres...</td>\n",
       "      <td>0</td>\n",
       "      <td>0</td>\n",
       "      <td>0</td>\n",
       "      <td>0</td>\n",
       "      <td>0</td>\n",
       "      <td>1</td>\n",
       "      <td>1</td>\n",
       "      <td>0</td>\n",
       "      <td>0</td>\n",
       "      <td>0</td>\n",
       "      <td>0</td>\n",
       "      <td>0</td>\n",
       "      <td>0</td>\n",
       "      <td>1</td>\n",
       "      <td>1</td>\n",
       "      <td>venir ser sub pole guay</td>\n",
       "    </tr>\n",
       "  </tbody>\n",
       "</table>\n",
       "</div>"
      ],
      "text/plain": [
       "  topic thread_id comment_id  ... toxicity  toxicity_level             preprocesado\n",
       "0    CR     0_000      0_002  ...        1               1                     1234\n",
       "1    CR     0_001      0_003  ...        1               1                      aaa\n",
       "2    CR     0_002      0_004  ...        1               2              ir ser malo\n",
       "3    CR     0_003      0_005  ...        1               1                     1234\n",
       "4    CR     0_004      0_006  ...        1               1  venir ser sub pole guay\n",
       "\n",
       "[5 rows x 22 columns]"
      ]
     },
     "execution_count": 36,
     "metadata": {
      "tags": []
     },
     "output_type": "execute_result"
    }
   ],
   "source": [
    "df.head()"
   ]
  },
  {
   "cell_type": "markdown",
   "metadata": {
    "id": "obUmy_Dyac2C"
   },
   "source": [
    "## Procesamiento de texto"
   ]
  },
  {
   "cell_type": "code",
   "execution_count": 5,
   "metadata": {
    "executionInfo": {
     "elapsed": 346,
     "status": "ok",
     "timestamp": 1621881766528,
     "user": {
      "displayName": "Lucia Merlo",
      "photoUrl": "https://lh3.googleusercontent.com/a-/AOh14GjoM3JGHSGTNe8FpnapRVZVepjE6IyPNNT9DOocgQ=s64",
      "userId": "10178920981326777222"
     },
     "user_tz": -120
    },
    "id": "LgCCzt-rac2D"
   },
   "outputs": [],
   "source": [
    "replacements = (\n",
    "        (\"á\", \"a\"),\n",
    "        (\"é\", \"e\"),\n",
    "        (\"í\", \"i\"),\n",
    "        (\"ó\", \"o\"),\n",
    "        (\"ú\", \"u\"),\n",
    "    )"
   ]
  },
  {
   "cell_type": "code",
   "execution_count": 8,
   "metadata": {
    "executionInfo": {
     "elapsed": 85515,
     "status": "ok",
     "timestamp": 1621881886271,
     "user": {
      "displayName": "Lucia Merlo",
      "photoUrl": "https://lh3.googleusercontent.com/a-/AOh14GjoM3JGHSGTNe8FpnapRVZVepjE6IyPNNT9DOocgQ=s64",
      "userId": "10178920981326777222"
     },
     "user_tz": -120
    },
    "id": "qxgLZVtiac2E",
    "scrolled": true
   },
   "outputs": [],
   "source": [
    "errores = []\n",
    "lemmas = []\n",
    "#a = df['preprocesado']\n",
    "for i in range(len(df)):\n",
    "        #tokenizar\n",
    "        tokens = nltk.word_tokenize(df.loc[:,'comment'].iloc[i])\n",
    "        #elimino signos de puntuación y ruido\n",
    "        #table = str.maketrans('', '', string.punctuation)\n",
    "        tokens = ' '.join(tokens)\n",
    "        tokens = tokens.lower()\n",
    "        punct = string.punctuation\n",
    "        for c in punct:\n",
    "            tokens = tokens.replace(c, \" \")\n",
    "        for a1, b1 in replacements:\n",
    "            tokens = tokens.replace(a1, b1).replace(a1.upper(), b1.upper())\n",
    "            stripped = tokens.split()\n",
    "        #stripped = [w.translate(table) for w in tokens] #intento sacar los signos de puntuación pero no puedo\n",
    "        #stripped = re.sub('[%s]' % re.escape(string.punctuation), ' ', tokens)\n",
    "\n",
    "        words = [word for word in stripped if word.isalpha()]\n",
    "\n",
    "\n",
    "        #eliminar stopwords\n",
    "        stop_words = set(stopwords.words('spanish'))\n",
    "        #words = [w for w in stripped if not w in stop_words]\n",
    "        words = [word for word in stripped if not word in stop_words]\n",
    "\n",
    "        #stemming\n",
    "        porter = PorterStemmer()\n",
    "        for i in range(len(words)):\n",
    "            words[i] = porter.stem(words[i])\n",
    "\n",
    "        #stemmed = [porter.stem(word) for word in words]\n",
    "\n",
    "        #lemmatizar \n",
    "        words = ' '.join(words)\n",
    "        doc = nlp(words)\n",
    "        lemmas1 = [tok.lemma_.lower() for tok in doc]\n",
    "        b = ' '.join(lemmas1)\n",
    "        lemmas.append(b)\n",
    "        #a[i] = b\n",
    "lemmas\n",
    "\n",
    "#extraction\n",
    "try:\n",
    "    vectorizer = CountVectorizer()\n",
    "    vectorizer.fit(lemmas)\n",
    "    X_bag_of_words = vectorizer.transform(lemmas)\n",
    "except ValueError:\n",
    "    errores.append(lemmas1)"
   ]
  },
  {
   "cell_type": "code",
   "execution_count": null,
   "metadata": {
    "colab": {
     "base_uri": "https://localhost:8080/"
    },
    "executionInfo": {
     "elapsed": 573,
     "status": "ok",
     "timestamp": 1621857940043,
     "user": {
      "displayName": "Nora hl",
      "photoUrl": "https://lh3.googleusercontent.com/a-/AOh14Gjjm3p-SOF1W7ydI9Pd8nSkMWV-18RpOyooiyZ_=s64",
      "userId": "04992732489427498123"
     },
     "user_tz": -120
    },
    "id": "DNJN8uBhac2F",
    "outputId": "3ec9dda0-80ff-4ecb-ad5b-6395340f7590"
   },
   "outputs": [
    {
     "name": "stderr",
     "output_type": "stream",
     "text": [
      "/usr/local/lib/python3.7/dist-packages/ipykernel_launcher.py:2: SettingWithCopyWarning: \n",
      "A value is trying to be set on a copy of a slice from a DataFrame\n",
      "\n",
      "See the caveats in the documentation: https://pandas.pydata.org/pandas-docs/stable/user_guide/indexing.html#returning-a-view-versus-a-copy\n",
      "  \n"
     ]
    }
   ],
   "source": [
    "for i in range(len(lemmas)):\n",
    "    \n",
    "    a[i] = lemmas[i]"
   ]
  },
  {
   "cell_type": "code",
   "execution_count": null,
   "metadata": {
    "id": "KtxrF9oMac2F"
   },
   "outputs": [],
   "source": [
    "#df.head(100)\n",
    "import csv\n",
    "df.to_csv('train_prep.csv', sep = ',')"
   ]
  },
  {
   "cell_type": "code",
   "execution_count": null,
   "metadata": {
    "id": "1XvonomMac2G",
    "scrolled": true
   },
   "outputs": [],
   "source": [
    "#print(X_bag_of_words)"
   ]
  },
  {
   "cell_type": "code",
   "execution_count": 9,
   "metadata": {
    "executionInfo": {
     "elapsed": 177,
     "status": "ok",
     "timestamp": 1621881894452,
     "user": {
      "displayName": "Lucia Merlo",
      "photoUrl": "https://lh3.googleusercontent.com/a-/AOh14GjoM3JGHSGTNe8FpnapRVZVepjE6IyPNNT9DOocgQ=s64",
      "userId": "10178920981326777222"
     },
     "user_tz": -120
    },
    "id": "uxDnC4U0ac2G",
    "scrolled": true
   },
   "outputs": [],
   "source": [
    "tfidf_vectorizer = TfidfVectorizer()\n",
    "tfidf_vectorizer.fit(lemmas)\n",
    "tfidf = tfidf_vectorizer.transform(lemmas)\n",
    "#print(tfidf)"
   ]
  },
  {
   "cell_type": "markdown",
   "metadata": {
    "id": "2ZXiDAJLac2G"
   },
   "source": [
    "## Detección de toxicidad"
   ]
  },
  {
   "cell_type": "markdown",
   "metadata": {
    "id": "vIaEVFtPac2H"
   },
   "source": [
    "### Despliegue de modelos, evaluación con f1-score"
   ]
  },
  {
   "cell_type": "code",
   "execution_count": null,
   "metadata": {
    "id": "Y4BufhNwac2H"
   },
   "outputs": [],
   "source": [
    "y = df['toxicity']\n",
    "X = tfidf\n",
    "X_train, X_test, y_train, y_test = train_test_split(X,y,test_size = 0.2, \n",
    "                                                    random_state = 0)"
   ]
  },
  {
   "cell_type": "markdown",
   "metadata": {
    "id": "SlL2L2Kgac2I"
   },
   "source": [
    "#### Árboles de decisión"
   ]
  },
  {
   "cell_type": "code",
   "execution_count": null,
   "metadata": {
    "id": "HHaRNIyxac2I"
   },
   "outputs": [],
   "source": [
    "clf_dt = tree.DecisionTreeClassifier(random_state = 0, class_weight=\"balanced\",\n",
    "                                     max_depth = 6)\n",
    "clf_dt.fit(X_train, y_train)\n",
    "y_pred_dt = clf_dt.predict(X_test)"
   ]
  },
  {
   "cell_type": "code",
   "execution_count": null,
   "metadata": {
    "colab": {
     "base_uri": "https://localhost:8080/"
    },
    "executionInfo": {
     "elapsed": 783,
     "status": "ok",
     "timestamp": 1620815972615,
     "user": {
      "displayName": "Lucia Merlo",
      "photoUrl": "https://lh3.googleusercontent.com/a-/AOh14GjoM3JGHSGTNe8FpnapRVZVepjE6IyPNNT9DOocgQ=s64",
      "userId": "10178920981326777222"
     },
     "user_tz": -120
    },
    "id": "ERVNuoCYac2I",
    "outputId": "2fb88d82-25b0-49fd-da5a-bbe8172926a1"
   },
   "outputs": [
    {
     "name": "stdout",
     "output_type": "stream",
     "text": [
      "Accuracy del modelo: 0.6854256854256854\n",
      "Media de f1-score con cross_validation:  0.5521910321268637\n",
      "Media de f1-score con cross_validation del test:  0.4662880217178749\n",
      "              precision    recall  f1-score   support\n",
      "\n",
      "           0       0.69      0.94      0.80       449\n",
      "           1       0.67      0.21      0.32       244\n",
      "\n",
      "    accuracy                           0.69       693\n",
      "   macro avg       0.68      0.58      0.56       693\n",
      "weighted avg       0.68      0.69      0.63       693\n",
      "\n"
     ]
    }
   ],
   "source": [
    "print(\"Accuracy del modelo:\", accuracy_score(y_test,y_pred_dt))\n",
    "\n",
    "scores_dt = cross_val_score(clf_dt, X_train, y_train, cv=5, scoring='f1_macro')\n",
    "print(\"Media de f1-score con cross_validation: \", scores_dt.mean())\n",
    "\n",
    "scores_dt = cross_val_score(clf_dt, X_test, y_test, cv=5, scoring='f1_macro')\n",
    "print(\"Media de f1-score con cross_validation del test: \", scores_dt.mean())\n",
    "\n",
    "print(classification_report(y_test,y_pred_dt))"
   ]
  },
  {
   "cell_type": "markdown",
   "metadata": {
    "id": "HlJgIDsPac2J"
   },
   "source": [
    "#### SVM"
   ]
  },
  {
   "cell_type": "code",
   "execution_count": null,
   "metadata": {
    "id": "USGPyagFac2K"
   },
   "outputs": [],
   "source": [
    "clf_svm = svm.SVC(random_state=0,C=1, class_weight=\"balanced\")\n",
    "clf_svm.fit(X_train, y_train)\n",
    "y_pred_svm = clf_svm.predict(X_test)"
   ]
  },
  {
   "cell_type": "code",
   "execution_count": null,
   "metadata": {
    "colab": {
     "base_uri": "https://localhost:8080/"
    },
    "executionInfo": {
     "elapsed": 5520,
     "status": "ok",
     "timestamp": 1620742608971,
     "user": {
      "displayName": "Lucia Merlo",
      "photoUrl": "https://lh3.googleusercontent.com/a-/AOh14GjoM3JGHSGTNe8FpnapRVZVepjE6IyPNNT9DOocgQ=s64",
      "userId": "10178920981326777222"
     },
     "user_tz": -120
    },
    "id": "WL6KmyI4ac2K",
    "outputId": "18f37717-6443-4bb2-acb8-f4f57921a4f9"
   },
   "outputs": [
    {
     "name": "stdout",
     "output_type": "stream",
     "text": [
      "Accuracy del modelo: 0.7215007215007215\n",
      "Media de f1-score con cross_validation 0.629242520791558\n",
      "Media de f1-score con cross_validation en test:  0.5306070173027698\n",
      "              precision    recall  f1-score   support\n",
      "\n",
      "           0       0.73      0.91      0.81       449\n",
      "           1       0.70      0.37      0.48       244\n",
      "\n",
      "    accuracy                           0.72       693\n",
      "   macro avg       0.71      0.64      0.65       693\n",
      "weighted avg       0.72      0.72      0.69       693\n",
      "\n"
     ]
    }
   ],
   "source": [
    "print(\"Accuracy del modelo:\", accuracy_score(y_test,y_pred_svm))\n",
    "\n",
    "scores_svm = cross_val_score(clf_svm, X_train, y_train, cv=5, scoring='f1_macro')\n",
    "print(\"Media de f1-score con cross_validation\", scores_svm.mean())\n",
    "\n",
    "scores_svm = cross_val_score(clf_svm, X_test, y_test, cv=5, scoring='f1_macro')\n",
    "print(\"Media de f1-score con cross_validation en test: \", scores_svm.mean())\n",
    "print(classification_report(y_test,y_pred_svm))"
   ]
  },
  {
   "cell_type": "markdown",
   "metadata": {
    "id": "VdPpazjBac2R"
   },
   "source": [
    "#### Logistic regression"
   ]
  },
  {
   "cell_type": "code",
   "execution_count": null,
   "metadata": {
    "id": "xvSfi_FUac2R"
   },
   "outputs": [],
   "source": [
    "clf_log = LogisticRegression(random_state = 0,class_weight=\"balanced\")\n",
    "clf_log.fit(X_train, y_train)\n",
    "y_pred_log = clf_log.predict(X_test)"
   ]
  },
  {
   "cell_type": "code",
   "execution_count": null,
   "metadata": {
    "colab": {
     "base_uri": "https://localhost:8080/"
    },
    "executionInfo": {
     "elapsed": 1085,
     "status": "ok",
     "timestamp": 1620555208747,
     "user": {
      "displayName": "Lucia Merlo",
      "photoUrl": "https://lh3.googleusercontent.com/a-/AOh14GjoM3JGHSGTNe8FpnapRVZVepjE6IyPNNT9DOocgQ=s64",
      "userId": "10178920981326777222"
     },
     "user_tz": -120
    },
    "id": "uKXN1iJRac2R",
    "outputId": "413c1fe3-de7c-4121-afce-22dfc445507f"
   },
   "outputs": [
    {
     "name": "stdout",
     "output_type": "stream",
     "text": [
      "Accuracy del modelo: 0.7171717171717171\n",
      "Media de f1-score con cross_validation 0.6716249668433196\n",
      "Media de f1-score con cross_validation en test:  0.6210797267076509\n",
      "              precision    recall  f1-score   support\n",
      "\n",
      "           0       0.76      0.82      0.79       449\n",
      "           1       0.62      0.52      0.57       244\n",
      "\n",
      "    accuracy                           0.72       693\n",
      "   macro avg       0.69      0.67      0.68       693\n",
      "weighted avg       0.71      0.72      0.71       693\n",
      "\n"
     ]
    }
   ],
   "source": [
    "print(\"Accuracy del modelo:\", accuracy_score(y_test,y_pred_log))\n",
    "\n",
    "scores_log = cross_val_score(clf_log, X_train, y_train, cv=5, scoring='f1_macro')\n",
    "print(\"Media de f1-score con cross_validation\", scores_log.mean())\n",
    "\n",
    "scores_log = cross_val_score(clf_log, X_test, y_test, cv=5, scoring='f1_macro')\n",
    "\n",
    "print(\"Media de f1-score con cross_validation en test: \", scores_log.mean())\n",
    "print(classification_report(y_test,y_pred_log))"
   ]
  },
  {
   "cell_type": "markdown",
   "metadata": {
    "id": "wtp1kG1Iac2T"
   },
   "source": [
    "#### KNN"
   ]
  },
  {
   "cell_type": "code",
   "execution_count": null,
   "metadata": {
    "colab": {
     "base_uri": "https://localhost:8080/"
    },
    "executionInfo": {
     "elapsed": 1634,
     "status": "ok",
     "timestamp": 1620555438255,
     "user": {
      "displayName": "Lucia Merlo",
      "photoUrl": "https://lh3.googleusercontent.com/a-/AOh14GjoM3JGHSGTNe8FpnapRVZVepjE6IyPNNT9DOocgQ=s64",
      "userId": "10178920981326777222"
     },
     "user_tz": -120
    },
    "id": "mRo0jIWkac2T",
    "outputId": "7487c29b-618b-4544-ba4d-3435a5e647ae"
   },
   "outputs": [
    {
     "name": "stdout",
     "output_type": "stream",
     "text": [
      "The optimal no. of neighbors is 1\n"
     ]
    }
   ],
   "source": [
    "# Obtención del número óptimo de vecinos\n",
    "\n",
    "neighbors = list(range(1,10,2)) \n",
    "cv_scores = [ ]\n",
    "\n",
    "for K in neighbors: #(k=1,k=3,k=5,k=7 y k=9)\n",
    "    knn = KNeighborsClassifier(n_neighbors = K,weights=\"distance\",metric=\"euclidean\")\n",
    "    scores = cross_val_score(knn,X_train,y_train,cv = 5,scoring =\"accuracy\")\n",
    "    cv_scores.append(scores.mean())\n",
    "\n",
    "mse = [1-x for x in cv_scores]\n",
    "\n",
    "optimal_k = neighbors[mse.index(min(mse))] #calculo el minimo error obtenido para k\n",
    "print(\"The optimal no. of neighbors is {}\".format(optimal_k))"
   ]
  },
  {
   "cell_type": "code",
   "execution_count": null,
   "metadata": {
    "id": "azzt7CXwac2T"
   },
   "outputs": [],
   "source": [
    "clf_knn = KNeighborsClassifier(n_neighbors = 1,weights=\"distance\",metric=\"euclidean\")\n",
    "clf_knn.fit(X_train,y_train)\n",
    "y_pred_knn = clf_knn.predict(X_test)"
   ]
  },
  {
   "cell_type": "code",
   "execution_count": null,
   "metadata": {
    "colab": {
     "base_uri": "https://localhost:8080/"
    },
    "executionInfo": {
     "elapsed": 770,
     "status": "ok",
     "timestamp": 1619950255598,
     "user": {
      "displayName": "Lucia Merlo",
      "photoUrl": "https://lh3.googleusercontent.com/a-/AOh14GjoM3JGHSGTNe8FpnapRVZVepjE6IyPNNT9DOocgQ=s64",
      "userId": "10178920981326777222"
     },
     "user_tz": -120
    },
    "id": "IzUHEBvwac2T",
    "outputId": "ed3592e4-5102-4e49-d013-5a643bd3f279"
   },
   "outputs": [
    {
     "name": "stdout",
     "output_type": "stream",
     "text": [
      "Accuracy del modelo: 0.6594516594516594\n",
      "              precision    recall  f1-score   support\n",
      "\n",
      "           0       0.66      0.98      0.79       449\n",
      "           1       0.68      0.06      0.11       244\n",
      "\n",
      "    accuracy                           0.66       693\n",
      "   macro avg       0.67      0.52      0.45       693\n",
      "weighted avg       0.67      0.66      0.55       693\n",
      "\n",
      "Media de f1-score con cross_validation 0.47694603914593897\n",
      "Media de f1-score con cross_validation en test:  0.43776079991626043\n"
     ]
    }
   ],
   "source": [
    "print(\"Accuracy del modelo:\", accuracy_score(y_test,y_pred_knn))\n",
    "print(classification_report(y_test,y_pred_knn))\n",
    "scores_knn = cross_val_score(clf_knn, X_train, y_train, cv=5, scoring='f1_macro')\n",
    "print(\"Media de f1-score con cross_validation\", scores_knn.mean())\n",
    "scores_knn = cross_val_score(clf_knn, X_test, y_test, cv=5, scoring='f1_macro')\n",
    "print(\"Media de f1-score con cross_validation en test: \", scores_knn.mean())"
   ]
  },
  {
   "cell_type": "markdown",
   "metadata": {
    "id": "H_N2CngSac2U"
   },
   "source": [
    "### Optimización de parámetros: Grid Search"
   ]
  },
  {
   "cell_type": "markdown",
   "metadata": {
    "id": "6FUZ3rZKac2U"
   },
   "source": [
    "#### Árboles de decisión"
   ]
  },
  {
   "cell_type": "code",
   "execution_count": null,
   "metadata": {
    "id": "ZSgnmIIPac2U"
   },
   "outputs": [],
   "source": [
    "model_dt = tree.DecisionTreeClassifier(class_weight='balanced',random_state = 0)\n",
    "\n",
    "grid_dt=dict(criterion= (\"gini\", \"entropy\"),splitter=(\"best\", \"random\"),\n",
    "             max_depth=list(range(1,8)))\n",
    "\n",
    "clf_dt = GridSearchCV(estimator = model_dt,\n",
    "                     param_grid = grid_dt)\n",
    "\n",
    "mod_dt=clf_dt.fit(X_train, y_train)\n",
    "y_pred_dt = clf_dt.predict(X_test)"
   ]
  },
  {
   "cell_type": "code",
   "execution_count": null,
   "metadata": {
    "colab": {
     "base_uri": "https://localhost:8080/"
    },
    "executionInfo": {
     "elapsed": 982,
     "status": "ok",
     "timestamp": 1619950277449,
     "user": {
      "displayName": "Lucia Merlo",
      "photoUrl": "https://lh3.googleusercontent.com/a-/AOh14GjoM3JGHSGTNe8FpnapRVZVepjE6IyPNNT9DOocgQ=s64",
      "userId": "10178920981326777222"
     },
     "user_tz": -120
    },
    "id": "prn7JQRSac2U",
    "outputId": "8635a33c-c250-435f-c337-e47e00a26064"
   },
   "outputs": [
    {
     "data": {
      "text/plain": [
       "DecisionTreeClassifier(ccp_alpha=0.0, class_weight='balanced', criterion='gini',\n",
       "                       max_depth=7, max_features=None, max_leaf_nodes=None,\n",
       "                       min_impurity_decrease=0.0, min_impurity_split=None,\n",
       "                       min_samples_leaf=1, min_samples_split=2,\n",
       "                       min_weight_fraction_leaf=0.0, presort='deprecated',\n",
       "                       random_state=0, splitter='random')"
      ]
     },
     "execution_count": 20,
     "metadata": {
      "tags": []
     },
     "output_type": "execute_result"
    }
   ],
   "source": [
    "mod_dt.best_estimator_"
   ]
  },
  {
   "cell_type": "code",
   "execution_count": null,
   "metadata": {
    "id": "O3Z6PglLac2V"
   },
   "outputs": [],
   "source": [
    "#clf_searc_dt = tree.DecisionTreeClassifier(random_state = 0, class_weight=\"balanced\",\n",
    " #                                    max_depth = 7, criterion = \"entropy\")\n",
    "\n",
    "clf_searc_dt = tree.DecisionTreeClassifier(ccp_alpha=0.0, class_weight='balanced', criterion='gini',\n",
    "                       max_depth=7, max_features=None, max_leaf_nodes=None,\n",
    "                       min_impurity_decrease=0.0, min_impurity_split=None,\n",
    "                       min_samples_leaf=1, min_samples_split=2,\n",
    "                       min_weight_fraction_leaf=0.0, presort='deprecated',\n",
    "                       random_state=0, splitter='random')\n",
    "\n",
    "clf_searc_dt.fit(X_train, y_train)\n",
    "y_pred_searc_dt = clf_searc_dt.predict(X_test)"
   ]
  },
  {
   "cell_type": "code",
   "execution_count": null,
   "metadata": {
    "colab": {
     "base_uri": "https://localhost:8080/"
    },
    "executionInfo": {
     "elapsed": 731,
     "status": "ok",
     "timestamp": 1619950357578,
     "user": {
      "displayName": "Lucia Merlo",
      "photoUrl": "https://lh3.googleusercontent.com/a-/AOh14GjoM3JGHSGTNe8FpnapRVZVepjE6IyPNNT9DOocgQ=s64",
      "userId": "10178920981326777222"
     },
     "user_tz": -120
    },
    "id": "sMkkoVJ4ac2V",
    "outputId": "a83c73b5-0203-454d-c2ab-7e64733b54ef"
   },
   "outputs": [
    {
     "name": "stdout",
     "output_type": "stream",
     "text": [
      "Accuracy del modelo: 0.6984126984126984\n",
      "Media de f1-score con cross_validation:  0.5609680913335696\n",
      "Media de f1-score con cross_validation del test:  0.4738335374223451\n",
      "              precision    recall  f1-score   support\n",
      "\n",
      "           0       0.69      0.99      0.81       449\n",
      "           1       0.89      0.16      0.28       244\n",
      "\n",
      "    accuracy                           0.70       693\n",
      "   macro avg       0.79      0.58      0.54       693\n",
      "weighted avg       0.76      0.70      0.62       693\n",
      "\n"
     ]
    }
   ],
   "source": [
    "print(\"Accuracy del modelo:\", accuracy_score(y_test,y_pred_searc_dt))\n",
    "scores_dt = cross_val_score(clf_searc_dt, X_train, y_train, cv=5, scoring='f1_macro')\n",
    "print(\"Media de f1-score con cross_validation: \", scores_dt.mean())\n",
    "\n",
    "scores_dt_test = cross_val_score(clf_searc_dt, X_test, y_test, cv=5, scoring='f1_macro')\n",
    "\n",
    "print(\"Media de f1-score con cross_validation del test: \", scores_dt_test.mean())\n",
    "print(classification_report(y_test,y_pred_searc_dt))"
   ]
  },
  {
   "cell_type": "markdown",
   "metadata": {
    "id": "2zWZgbj8ac2V"
   },
   "source": [
    "#### SVM"
   ]
  },
  {
   "cell_type": "code",
   "execution_count": null,
   "metadata": {
    "colab": {
     "base_uri": "https://localhost:8080/"
    },
    "executionInfo": {
     "elapsed": 34058,
     "status": "ok",
     "timestamp": 1619950396437,
     "user": {
      "displayName": "Lucia Merlo",
      "photoUrl": "https://lh3.googleusercontent.com/a-/AOh14GjoM3JGHSGTNe8FpnapRVZVepjE6IyPNNT9DOocgQ=s64",
      "userId": "10178920981326777222"
     },
     "user_tz": -120
    },
    "id": "RCenjGrrac2V",
    "outputId": "588edd45-fce1-46a6-d886-ebe70715c9b1"
   },
   "outputs": [
    {
     "data": {
      "text/plain": [
       "SVC(C=1, break_ties=False, cache_size=200, class_weight=None, coef0=0.0,\n",
       "    decision_function_shape='ovr', degree=3, gamma='scale', kernel='linear',\n",
       "    max_iter=-1, probability=False, random_state=None, shrinking=True,\n",
       "    tol=0.001, verbose=False)"
      ]
     },
     "execution_count": 23,
     "metadata": {
      "tags": []
     },
     "output_type": "execute_result"
    }
   ],
   "source": [
    "clf_search_svm = GridSearchCV(estimator=svm.SVC(),\n",
    "                              param_grid={'C': [1, 10],\n",
    "                                          'kernel': ('linear', 'rbf','poly','sigmoid')\n",
    "                                         })\n",
    "m_svm = clf_search_svm.fit(X_train, y_train)\n",
    "m_svm.best_estimator_"
   ]
  },
  {
   "cell_type": "code",
   "execution_count": null,
   "metadata": {
    "id": "3Jn22Uboac2V"
   },
   "outputs": [],
   "source": [
    "#clf_linear_svm = svm.SVC(kernel='linear',C=1,class_weight=\"balanced\")\n",
    "\n",
    "clf_linear_svm = svm.SVC(C=1, break_ties=False, cache_size=200, class_weight=None, coef0=0.0,\n",
    "    decision_function_shape='ovr', degree=3, gamma='scale', kernel='linear',\n",
    "    max_iter=-1, probability=False, random_state=None, shrinking=True,\n",
    "    tol=0.001, verbose=False)\n",
    "\n",
    "clf_linear_svm.fit(X_train, y_train)\n",
    "y_pred_linear_svm = clf_linear_svm.predict(X_test)"
   ]
  },
  {
   "cell_type": "code",
   "execution_count": null,
   "metadata": {
    "colab": {
     "base_uri": "https://localhost:8080/"
    },
    "executionInfo": {
     "elapsed": 4666,
     "status": "ok",
     "timestamp": 1619950604123,
     "user": {
      "displayName": "Lucia Merlo",
      "photoUrl": "https://lh3.googleusercontent.com/a-/AOh14GjoM3JGHSGTNe8FpnapRVZVepjE6IyPNNT9DOocgQ=s64",
      "userId": "10178920981326777222"
     },
     "user_tz": -120
    },
    "id": "rP-kYl-Eac2V",
    "outputId": "7a8bd4ef-5fcc-41e1-c903-38ae76f0f0a7"
   },
   "outputs": [
    {
     "name": "stdout",
     "output_type": "stream",
     "text": [
      "Accuracy del modelo: 0.7171717171717171\n",
      "              precision    recall  f1-score   support\n",
      "\n",
      "           0       0.72      0.93      0.81       449\n",
      "           1       0.71      0.33      0.45       244\n",
      "\n",
      "    accuracy                           0.72       693\n",
      "   macro avg       0.71      0.63      0.63       693\n",
      "weighted avg       0.72      0.72      0.68       693\n",
      "\n",
      "Media de f1-score con cross_validation:  0.6253405316778935\n",
      "Media de f1-score con cross_validation del test:  0.5798695111847556\n"
     ]
    }
   ],
   "source": [
    "print(\"Accuracy del modelo:\", accuracy_score(y_test,y_pred_linear_svm))\n",
    "print(classification_report(y_test,y_pred_linear_svm))\n",
    "\n",
    "scores_knn = cross_val_score(clf_linear_svm, X_train, y_train, cv=5, scoring='f1_macro')\n",
    "print(\"Media de f1-score con cross_validation: \", scores_knn.mean())\n",
    "\n",
    "scores_knn_test = cross_val_score(clf_linear_svm, X_test, y_test, cv=5, scoring='f1_macro')\n",
    "\n",
    "print(\"Media de f1-score con cross_validation del test: \", scores_knn_test.mean())"
   ]
  },
  {
   "cell_type": "markdown",
   "metadata": {
    "id": "A5aAqMq2ac2W"
   },
   "source": [
    "#### Logistic regression"
   ]
  },
  {
   "cell_type": "code",
   "execution_count": null,
   "metadata": {
    "id": "tk8rsAutac2W"
   },
   "outputs": [],
   "source": [
    "from scipy.stats import uniform, norm\n",
    "from sklearn.pipeline import Pipeline\n",
    "import numpy as np\n",
    "from sklearn.model_selection import RepeatedStratifiedKFold\n",
    "\n",
    "\n",
    "model = LogisticRegression()\n",
    "solvers = ['newton-cg', 'lbfgs', 'liblinear']\n",
    "penalty = ['l2']\n",
    "c_values = [100, 10, 1.0, 0.1, 0.01]\n",
    "\n",
    "# define grid search\n",
    "\n",
    "grid = dict(solver=solvers,penalty=penalty,C=c_values)\n",
    "cv = RepeatedStratifiedKFold(n_splits=10, n_repeats=3, random_state=1)\n",
    "grid_search = GridSearchCV(estimator=model, param_grid=grid,\n",
    "                           n_jobs=-1, cv=cv, scoring='accuracy',error_score=0)\n",
    "grid_result = grid_search.fit(X_train, y_train)"
   ]
  },
  {
   "cell_type": "code",
   "execution_count": null,
   "metadata": {
    "colab": {
     "base_uri": "https://localhost:8080/"
    },
    "executionInfo": {
     "elapsed": 792,
     "status": "ok",
     "timestamp": 1619950656042,
     "user": {
      "displayName": "Lucia Merlo",
      "photoUrl": "https://lh3.googleusercontent.com/a-/AOh14GjoM3JGHSGTNe8FpnapRVZVepjE6IyPNNT9DOocgQ=s64",
      "userId": "10178920981326777222"
     },
     "user_tz": -120
    },
    "id": "wlKLiA_eac2W",
    "outputId": "ea68f256-708a-4d3a-875e-da9753d11db9"
   },
   "outputs": [
    {
     "name": "stdout",
     "output_type": "stream",
     "text": [
      "Mejor: 0.733454 usando {'C': 10, 'penalty': 'l2', 'solver': 'liblinear'}\n"
     ]
    }
   ],
   "source": [
    "# summarize results\n",
    "print(\"Mejor: %f usando %s\" % (grid_result.best_score_, grid_result.best_params_))\n",
    "#means = grid_result.cv_results_['mean_test_score']\n",
    "#stds = grid_result.cv_results_['std_test_score']\n",
    "#params = grid_result.cv_results_['params']\n",
    "#for mean, stdev, param in zip(means, stds, params):\n",
    " #   print(\"%f (%f) con: %r\" % (mean, stdev, param))"
   ]
  },
  {
   "cell_type": "code",
   "execution_count": null,
   "metadata": {
    "id": "_ednJ2oFac2W"
   },
   "outputs": [],
   "source": [
    "clf_log_tun = LogisticRegression(random_state = 0, C=10,penalty='l2'\n",
    "                                 ,solver = 'liblinear',class_weight=\"balanced\")\n",
    "clf_log_tun.fit(X_train, y_train)\n",
    "y_pred_log_tun = clf_log_tun.predict(X_test)"
   ]
  },
  {
   "cell_type": "code",
   "execution_count": null,
   "metadata": {
    "colab": {
     "base_uri": "https://localhost:8080/"
    },
    "executionInfo": {
     "elapsed": 527,
     "status": "ok",
     "timestamp": 1621276502548,
     "user": {
      "displayName": "Nora hl",
      "photoUrl": "https://lh3.googleusercontent.com/a-/AOh14Gjjm3p-SOF1W7ydI9Pd8nSkMWV-18RpOyooiyZ_=s64",
      "userId": "04992732489427498123"
     },
     "user_tz": -120
    },
    "id": "e07TwFI1ac2W",
    "outputId": "7e1a62ab-da67-4798-8794-cce276dd9201"
   },
   "outputs": [
    {
     "name": "stdout",
     "output_type": "stream",
     "text": [
      "Accuracy del modelo: 0.7128427128427128\n",
      "              precision    recall  f1-score   support\n",
      "\n",
      "           0       0.76      0.82      0.79       449\n",
      "           1       0.61      0.52      0.56       244\n",
      "\n",
      "    accuracy                           0.71       693\n",
      "   macro avg       0.68      0.67      0.67       693\n",
      "weighted avg       0.70      0.71      0.71       693\n",
      "\n",
      "Media de f1-score con cross_validation 0.6624594010643858\n",
      "Media de f1-score con cross_validation en test:  0.6299135643129212\n"
     ]
    }
   ],
   "source": [
    "scores_log_tun = cross_val_score(clf_log_tun, X_train, y_train, cv=5, scoring='f1_macro')\n",
    "print(\"Accuracy del modelo:\", accuracy_score(y_test,y_pred_log_tun))\n",
    "print(classification_report(y_test,y_pred_log_tun))\n",
    "print(\"Media de f1-score con cross_validation\", scores_log_tun.mean())\n",
    "\n",
    "scores_logistic_tun = cross_val_score(clf_log_tun, X_test, y_test, cv=5, scoring='f1_macro')\n",
    "\n",
    "print(\"Media de f1-score con cross_validation en test: \", scores_logistic_tun.mean())"
   ]
  },
  {
   "cell_type": "markdown",
   "metadata": {
    "id": "Azh9bvhiac2X"
   },
   "source": [
    "#### KNN"
   ]
  },
  {
   "cell_type": "code",
   "execution_count": null,
   "metadata": {
    "colab": {
     "base_uri": "https://localhost:8080/"
    },
    "executionInfo": {
     "elapsed": 64996,
     "status": "ok",
     "timestamp": 1619951876881,
     "user": {
      "displayName": "Lucia Merlo",
      "photoUrl": "https://lh3.googleusercontent.com/a-/AOh14GjoM3JGHSGTNe8FpnapRVZVepjE6IyPNNT9DOocgQ=s64",
      "userId": "10178920981326777222"
     },
     "user_tz": -120
    },
    "id": "Wf8Kpq1dac2Y",
    "outputId": "e0c3f1fd-9dd1-45a9-91c8-037e0d185fa3"
   },
   "outputs": [
    {
     "name": "stdout",
     "output_type": "stream",
     "text": [
      "Best: 0.691215 using {'metric': 'euclidean', 'n_neighbors': 3, 'weights': 'distance'}\n"
     ]
    }
   ],
   "source": [
    "from sklearn.model_selection import RepeatedStratifiedKFold\n",
    "model = KNeighborsClassifier()\n",
    "vecinos = list(range(1,10))\n",
    "weights = ['uniform', 'distance']\n",
    "metric = ['euclidean', 'manhattan', 'minkowski']\n",
    "\n",
    "# define grid search\n",
    "grid = dict(n_neighbors=vecinos,weights=weights,metric=metric)\n",
    "cv = RepeatedStratifiedKFold(n_splits=10, n_repeats=3, random_state=1)\n",
    "\n",
    "grid_search = GridSearchCV(estimator=model, param_grid=grid, n_jobs=-1, \n",
    "                           cv=cv, scoring='accuracy',error_score=0)\n",
    "\n",
    "grid_result = grid_search.fit(X_train, y_train)\n",
    "\n",
    "# summarize results\n",
    "print(\"Best: %f using %s\" % (grid_result.best_score_, grid_result.best_params_))"
   ]
  },
  {
   "cell_type": "code",
   "execution_count": null,
   "metadata": {
    "colab": {
     "base_uri": "https://localhost:8080/"
    },
    "executionInfo": {
     "elapsed": 716,
     "status": "ok",
     "timestamp": 1619951885293,
     "user": {
      "displayName": "Lucia Merlo",
      "photoUrl": "https://lh3.googleusercontent.com/a-/AOh14GjoM3JGHSGTNe8FpnapRVZVepjE6IyPNNT9DOocgQ=s64",
      "userId": "10178920981326777222"
     },
     "user_tz": -120
    },
    "id": "68-rl52rac2Y",
    "outputId": "47e367e3-0e95-4efe-807b-043e00033d6b"
   },
   "outputs": [
    {
     "name": "stdout",
     "output_type": "stream",
     "text": [
      "Accuracy del modelo: 0.6608946608946609\n",
      "              precision    recall  f1-score   support\n",
      "\n",
      "           0       0.66      1.00      0.79       449\n",
      "           1       0.85      0.05      0.09       244\n",
      "\n",
      "    accuracy                           0.66       693\n",
      "   macro avg       0.75      0.52      0.44       693\n",
      "weighted avg       0.72      0.66      0.54       693\n",
      "\n",
      "Media de f1-score con cross_validation 0.4552436960177454\n",
      "Media de f1-score con cross_validation en test:  0.42664070107775254\n"
     ]
    }
   ],
   "source": [
    "clf_searc_knn = KNeighborsClassifier(n_neighbors = 3,\n",
    "                                     weights=\"distance\",metric=\"euclidean\")\n",
    "\n",
    "clf_searc_knn.fit(X_train,y_train)\n",
    "y_pred_searc_knn = clf_searc_knn.predict(X_test)\n",
    "\n",
    "print(\"Accuracy del modelo:\", accuracy_score(y_test,y_pred_searc_knn))\n",
    "print(classification_report(y_test,y_pred_searc_knn))\n",
    "\n",
    "scores_searc_knn = cross_val_score(clf_searc_knn, X_train, y_train, \n",
    "                                   cv=5, scoring='f1_macro')\n",
    "print(\"Media de f1-score con cross_validation\", scores_searc_knn.mean())\n",
    "\n",
    "scores_searc_knn2 = cross_val_score(clf_searc_knn, X_test, y_test, \n",
    "                                    cv=5, scoring='f1_macro')\n",
    "print(\"Media de f1-score con cross_validation en test: \", scores_searc_knn2.mean())"
   ]
  },
  {
   "cell_type": "markdown",
   "metadata": {
    "id": "TFpOYHuDac2Z"
   },
   "source": [
    "## Detección nivel de toxicidad"
   ]
  },
  {
   "cell_type": "markdown",
   "metadata": {
    "id": "puhODYCgac2Z"
   },
   "source": [
    "### Despliegue de modelos, evaluación con f1-score"
   ]
  },
  {
   "cell_type": "code",
   "execution_count": 10,
   "metadata": {
    "executionInfo": {
     "elapsed": 638,
     "status": "ok",
     "timestamp": 1621881906918,
     "user": {
      "displayName": "Lucia Merlo",
      "photoUrl": "https://lh3.googleusercontent.com/a-/AOh14GjoM3JGHSGTNe8FpnapRVZVepjE6IyPNNT9DOocgQ=s64",
      "userId": "10178920981326777222"
     },
     "user_tz": -120
    },
    "id": "kzxEyit8ac2Z"
   },
   "outputs": [],
   "source": [
    "y = df['toxicity_level']\n",
    "X = tfidf\n",
    "X_train, X_test, y_train, y_test = train_test_split(X,y,test_size=0.2, random_state=0)"
   ]
  },
  {
   "cell_type": "markdown",
   "metadata": {
    "id": "vqfQlpBCac2Z"
   },
   "source": [
    "#### Árboles de desición"
   ]
  },
  {
   "cell_type": "code",
   "execution_count": 11,
   "metadata": {
    "executionInfo": {
     "elapsed": 194,
     "status": "ok",
     "timestamp": 1621881912417,
     "user": {
      "displayName": "Lucia Merlo",
      "photoUrl": "https://lh3.googleusercontent.com/a-/AOh14GjoM3JGHSGTNe8FpnapRVZVepjE6IyPNNT9DOocgQ=s64",
      "userId": "10178920981326777222"
     },
     "user_tz": -120
    },
    "id": "9PFCe27Nac2Z"
   },
   "outputs": [],
   "source": [
    "clf_dt = tree.DecisionTreeClassifier(random_state = 0, class_weight=\"balanced\",\n",
    "                                     max_depth = 6)\n",
    "clf_dt.fit(X_train, y_train)\n",
    "y_pred_dt = clf_dt.predict(X_test)"
   ]
  },
  {
   "cell_type": "code",
   "execution_count": 12,
   "metadata": {
    "colab": {
     "base_uri": "https://localhost:8080/"
    },
    "executionInfo": {
     "elapsed": 542,
     "status": "ok",
     "timestamp": 1621881915032,
     "user": {
      "displayName": "Lucia Merlo",
      "photoUrl": "https://lh3.googleusercontent.com/a-/AOh14GjoM3JGHSGTNe8FpnapRVZVepjE6IyPNNT9DOocgQ=s64",
      "userId": "10178920981326777222"
     },
     "user_tz": -120
    },
    "id": "foxkl_-Qac2Z",
    "outputId": "dda1aa08-ab18-41b4-d89f-c9312e274abc"
   },
   "outputs": [
    {
     "name": "stdout",
     "output_type": "stream",
     "text": [
      "Accuracy del modelo: 0.6349206349206349\n",
      "              precision    recall  f1-score   support\n",
      "\n",
      "           0       0.67      0.95      0.78       449\n",
      "           1       0.71      0.03      0.05       176\n",
      "           2       0.28      0.13      0.17        55\n",
      "           3       0.10      0.15      0.12        13\n",
      "\n",
      "    accuracy                           0.63       693\n",
      "   macro avg       0.44      0.31      0.28       693\n",
      "weighted avg       0.64      0.63      0.54       693\n",
      "\n",
      "Media de f1-score con cross_validation 0.236621245206792\n",
      "Media de f1-score con cross_validation en test:  0.23769180596904832\n"
     ]
    }
   ],
   "source": [
    "print(\"Accuracy del modelo:\", accuracy_score(y_test,y_pred_dt))\n",
    "print(classification_report(y_test,y_pred_dt))\n",
    "\n",
    "scores_dt = cross_val_score(clf_dt, X_train, y_train, cv=5, scoring='f1_macro')\n",
    "print(\"Media de f1-score con cross_validation\", scores_dt.mean())\n",
    "scores_dt = cross_val_score(clf_dt, X_test, y_test, cv=5, scoring='f1_macro')\n",
    "\n",
    "print(\"Media de f1-score con cross_validation en test: \", scores_dt.mean())"
   ]
  },
  {
   "cell_type": "markdown",
   "metadata": {
    "id": "rgkgmFAdac2Z"
   },
   "source": [
    "#### SVM"
   ]
  },
  {
   "cell_type": "code",
   "execution_count": 13,
   "metadata": {
    "executionInfo": {
     "elapsed": 2673,
     "status": "ok",
     "timestamp": 1621881993582,
     "user": {
      "displayName": "Lucia Merlo",
      "photoUrl": "https://lh3.googleusercontent.com/a-/AOh14GjoM3JGHSGTNe8FpnapRVZVepjE6IyPNNT9DOocgQ=s64",
      "userId": "10178920981326777222"
     },
     "user_tz": -120
    },
    "id": "tRvucWvWac2Z"
   },
   "outputs": [],
   "source": [
    "clf_svm = svm.SVC(random_state=0, class_weight=\"balanced\")\n",
    "clf_svm.fit(X_train, y_train)\n",
    "y_pred_svm = clf_svm.predict(X_test)"
   ]
  },
  {
   "cell_type": "code",
   "execution_count": 14,
   "metadata": {
    "colab": {
     "base_uri": "https://localhost:8080/"
    },
    "executionInfo": {
     "elapsed": 8456,
     "status": "ok",
     "timestamp": 1621882005051,
     "user": {
      "displayName": "Lucia Merlo",
      "photoUrl": "https://lh3.googleusercontent.com/a-/AOh14GjoM3JGHSGTNe8FpnapRVZVepjE6IyPNNT9DOocgQ=s64",
      "userId": "10178920981326777222"
     },
     "user_tz": -120
    },
    "id": "UsxYtLGEac2Z",
    "outputId": "64d1b8ab-7e43-4826-e047-1cdea347de1e"
   },
   "outputs": [
    {
     "name": "stdout",
     "output_type": "stream",
     "text": [
      "Accuracy del modelo: 0.6724386724386724\n",
      "              precision    recall  f1-score   support\n",
      "\n",
      "           0       0.69      0.97      0.81       449\n",
      "           1       0.48      0.16      0.25       176\n",
      "           2       0.00      0.00      0.00        55\n",
      "           3       0.00      0.00      0.00        13\n",
      "\n",
      "    accuracy                           0.67       693\n",
      "   macro avg       0.29      0.28      0.26       693\n",
      "weighted avg       0.57      0.67      0.59       693\n",
      "\n"
     ]
    },
    {
     "name": "stderr",
     "output_type": "stream",
     "text": [
      "/usr/local/lib/python3.7/dist-packages/sklearn/metrics/_classification.py:1272: UndefinedMetricWarning: Precision and F-score are ill-defined and being set to 0.0 in labels with no predicted samples. Use `zero_division` parameter to control this behavior.\n",
      "  _warn_prf(average, modifier, msg_start, len(result))\n"
     ]
    },
    {
     "name": "stdout",
     "output_type": "stream",
     "text": [
      "Media de f1-score con cross_validation 0.2689509027093041\n",
      "Media de f1-score con cross_validation en test:  0.22383528876396835\n"
     ]
    }
   ],
   "source": [
    "print(\"Accuracy del modelo:\", accuracy_score(y_test,y_pred_svm))\n",
    "print(classification_report(y_test,y_pred_svm))\n",
    "\n",
    "scores_svm = cross_val_score(clf_svm, X_train, y_train, cv=5, scoring='f1_macro')\n",
    "print(\"Media de f1-score con cross_validation\", scores_svm.mean())\n",
    "\n",
    "scores_svm = cross_val_score(clf_svm, X_test, y_test, cv=5, scoring='f1_macro')\n",
    "\n",
    "print(\"Media de f1-score con cross_validation en test: \", scores_svm.mean())"
   ]
  },
  {
   "cell_type": "markdown",
   "metadata": {
    "id": "kmFnTlTSac2b"
   },
   "source": [
    "#### Logistic regression"
   ]
  },
  {
   "cell_type": "code",
   "execution_count": 15,
   "metadata": {
    "executionInfo": {
     "elapsed": 753,
     "status": "ok",
     "timestamp": 1621882028065,
     "user": {
      "displayName": "Lucia Merlo",
      "photoUrl": "https://lh3.googleusercontent.com/a-/AOh14GjoM3JGHSGTNe8FpnapRVZVepjE6IyPNNT9DOocgQ=s64",
      "userId": "10178920981326777222"
     },
     "user_tz": -120
    },
    "id": "LsTPxh0Gac2b"
   },
   "outputs": [],
   "source": [
    "clf_log = LogisticRegression(random_state = 0,class_weight=\"balanced\")\n",
    "clf_log.fit(X_train, y_train)\n",
    "y_pred_log = clf_log.predict(X_test)"
   ]
  },
  {
   "cell_type": "code",
   "execution_count": 16,
   "metadata": {
    "colab": {
     "base_uri": "https://localhost:8080/"
    },
    "executionInfo": {
     "elapsed": 4797,
     "status": "ok",
     "timestamp": 1621882034362,
     "user": {
      "displayName": "Lucia Merlo",
      "photoUrl": "https://lh3.googleusercontent.com/a-/AOh14GjoM3JGHSGTNe8FpnapRVZVepjE6IyPNNT9DOocgQ=s64",
      "userId": "10178920981326777222"
     },
     "user_tz": -120
    },
    "id": "C-6Mr-0Zac2b",
    "outputId": "2aef1931-70e6-40b6-b0e4-97117863eba6"
   },
   "outputs": [
    {
     "name": "stdout",
     "output_type": "stream",
     "text": [
      "Accuracy del modelo: 0.6277056277056277\n",
      "              precision    recall  f1-score   support\n",
      "\n",
      "           0       0.74      0.83      0.78       449\n",
      "           1       0.35      0.28      0.31       176\n",
      "           2       0.29      0.22      0.25        55\n",
      "           3       0.29      0.15      0.20        13\n",
      "\n",
      "    accuracy                           0.63       693\n",
      "   macro avg       0.42      0.37      0.39       693\n",
      "weighted avg       0.59      0.63      0.61       693\n",
      "\n",
      "Media de f1-score con cross_validation 0.36229624616326883\n",
      "Media de f1-score con cross_validation en test:  0.2669652097024179\n"
     ]
    }
   ],
   "source": [
    "print(\"Accuracy del modelo:\", accuracy_score(y_test,y_pred_log))\n",
    "print(classification_report(y_test,y_pred_log))\n",
    "scores_log = cross_val_score(clf_log, X_train, y_train, cv=5, scoring='f1_macro')\n",
    "print(\"Media de f1-score con cross_validation\", scores_log.mean())\n",
    "scores_log = cross_val_score(clf_log, X_test, y_test, cv=5, scoring='f1_macro')\n",
    "\n",
    "print(\"Media de f1-score con cross_validation en test: \", scores_log.mean())"
   ]
  },
  {
   "cell_type": "markdown",
   "metadata": {
    "id": "P9fH0MBJac2b"
   },
   "source": [
    "#### KNN"
   ]
  },
  {
   "cell_type": "code",
   "execution_count": 17,
   "metadata": {
    "colab": {
     "base_uri": "https://localhost:8080/"
    },
    "executionInfo": {
     "elapsed": 1317,
     "status": "ok",
     "timestamp": 1621882052096,
     "user": {
      "displayName": "Lucia Merlo",
      "photoUrl": "https://lh3.googleusercontent.com/a-/AOh14GjoM3JGHSGTNe8FpnapRVZVepjE6IyPNNT9DOocgQ=s64",
      "userId": "10178920981326777222"
     },
     "user_tz": -120
    },
    "id": "M51ovSE9ac2c",
    "outputId": "3d94d469-cbf1-40df-892f-97414fd88758"
   },
   "outputs": [
    {
     "name": "stdout",
     "output_type": "stream",
     "text": [
      "The optimal no. of neighbors is 3\n"
     ]
    }
   ],
   "source": [
    "# Obtención del número óptimo de vecinos\n",
    "\n",
    "neighbors = list(range(1,10,2)) \n",
    "cv_scores = [ ]\n",
    "\n",
    "for K in neighbors: #(k=1,k=3,k=5,k=7 y k=9)\n",
    "    knn = KNeighborsClassifier(n_neighbors = K,weights=\"distance\",metric=\"euclidean\")\n",
    "    scores = cross_val_score(knn,X_train,y_train,cv = 5,scoring =\"accuracy\")\n",
    "    cv_scores.append(scores.mean())\n",
    "\n",
    "mse = [1-x for x in cv_scores]\n",
    "\n",
    "optimal_k = neighbors[mse.index(min(mse))] #calculo el minimo error obtenido para k\n",
    "print(\"The optimal no. of neighbors is {}\".format(optimal_k))"
   ]
  },
  {
   "cell_type": "code",
   "execution_count": 18,
   "metadata": {
    "executionInfo": {
     "elapsed": 182,
     "status": "ok",
     "timestamp": 1621882062766,
     "user": {
      "displayName": "Lucia Merlo",
      "photoUrl": "https://lh3.googleusercontent.com/a-/AOh14GjoM3JGHSGTNe8FpnapRVZVepjE6IyPNNT9DOocgQ=s64",
      "userId": "10178920981326777222"
     },
     "user_tz": -120
    },
    "id": "N63OharPac2c"
   },
   "outputs": [],
   "source": [
    "clf_knn = KNeighborsClassifier(n_neighbors = 3,weights=\"distance\",metric=\"euclidean\")\n",
    "clf_knn.fit(X_train,y_train)\n",
    "y_pred_knn = clf_knn.predict(X_test)"
   ]
  },
  {
   "cell_type": "code",
   "execution_count": 19,
   "metadata": {
    "colab": {
     "base_uri": "https://localhost:8080/"
    },
    "executionInfo": {
     "elapsed": 327,
     "status": "ok",
     "timestamp": 1621882067265,
     "user": {
      "displayName": "Lucia Merlo",
      "photoUrl": "https://lh3.googleusercontent.com/a-/AOh14GjoM3JGHSGTNe8FpnapRVZVepjE6IyPNNT9DOocgQ=s64",
      "userId": "10178920981326777222"
     },
     "user_tz": -120
    },
    "id": "94gRy1Ieac2c",
    "outputId": "328e7ddd-aec2-48a6-e35c-3c539b76ae69"
   },
   "outputs": [
    {
     "name": "stdout",
     "output_type": "stream",
     "text": [
      "Accuracy del modelo: 0.6608946608946609\n",
      "              precision    recall  f1-score   support\n",
      "\n",
      "           0       0.66      1.00      0.79       449\n",
      "           1       0.85      0.06      0.12       176\n",
      "           2       0.00      0.00      0.00        55\n",
      "           3       0.00      0.00      0.00        13\n",
      "\n",
      "    accuracy                           0.66       693\n",
      "   macro avg       0.38      0.26      0.23       693\n",
      "weighted avg       0.64      0.66      0.54       693\n",
      "\n",
      "Media de f1-score con cross_validation 0.2389720501642763\n",
      "Media de f1-score con cross_validation en test:  0.21911746383999442\n"
     ]
    },
    {
     "name": "stderr",
     "output_type": "stream",
     "text": [
      "/usr/local/lib/python3.7/dist-packages/sklearn/metrics/_classification.py:1272: UndefinedMetricWarning: Precision and F-score are ill-defined and being set to 0.0 in labels with no predicted samples. Use `zero_division` parameter to control this behavior.\n",
      "  _warn_prf(average, modifier, msg_start, len(result))\n"
     ]
    }
   ],
   "source": [
    "print(\"Accuracy del modelo:\", accuracy_score(y_test,y_pred_knn))\n",
    "print(classification_report(y_test,y_pred_knn))\n",
    "scores_knn = cross_val_score(clf_knn, X_train, y_train, cv=5, scoring='f1_macro')\n",
    "print(\"Media de f1-score con cross_validation\", scores_knn.mean())\n",
    "scores_knn = cross_val_score(clf_knn, X_test, y_test, cv=5, scoring='f1_macro')\n",
    "print(\"Media de f1-score con cross_validation en test: \", scores_knn.mean())"
   ]
  },
  {
   "cell_type": "markdown",
   "metadata": {
    "id": "wy2BiFALac2c"
   },
   "source": [
    "### Optimización de parámetros: Grid search"
   ]
  },
  {
   "cell_type": "markdown",
   "metadata": {
    "id": "odNZrNI-ac2c"
   },
   "source": [
    "#### Árboles de decisión"
   ]
  },
  {
   "cell_type": "code",
   "execution_count": null,
   "metadata": {
    "colab": {
     "base_uri": "https://localhost:8080/"
    },
    "executionInfo": {
     "elapsed": 5482,
     "status": "ok",
     "timestamp": 1619952853428,
     "user": {
      "displayName": "Lucia Merlo",
      "photoUrl": "https://lh3.googleusercontent.com/a-/AOh14GjoM3JGHSGTNe8FpnapRVZVepjE6IyPNNT9DOocgQ=s64",
      "userId": "10178920981326777222"
     },
     "user_tz": -120
    },
    "id": "NBcxQkWpac2c",
    "outputId": "3b6cfdc6-8014-4a42-cfe8-7788dd1091c8"
   },
   "outputs": [
    {
     "data": {
      "text/plain": [
       "DecisionTreeClassifier(ccp_alpha=0.0, class_weight='balanced',\n",
       "                       criterion='entropy', max_depth=2, max_features=None,\n",
       "                       max_leaf_nodes=None, min_impurity_decrease=0.0,\n",
       "                       min_impurity_split=None, min_samples_leaf=1,\n",
       "                       min_samples_split=2, min_weight_fraction_leaf=0.0,\n",
       "                       presort='deprecated', random_state=0, splitter='random')"
      ]
     },
     "execution_count": 46,
     "metadata": {
      "tags": []
     },
     "output_type": "execute_result"
    }
   ],
   "source": [
    "model_dt = tree.DecisionTreeClassifier(class_weight='balanced',random_state = 0)\n",
    "\n",
    "grid_dt=dict(criterion= (\"gini\", \"entropy\"),splitter=(\"best\", \"random\"),\n",
    "             max_depth=list(range(1,8)))\n",
    "\n",
    "clf_dt = GridSearchCV(estimator = model_dt,\n",
    "                     param_grid = grid_dt)\n",
    "\n",
    "mod_dt=clf_dt.fit(X_train, y_train)\n",
    "y_pred_dt = clf_dt.predict(X_test)\n",
    "mod_dt.best_estimator_"
   ]
  },
  {
   "cell_type": "code",
   "execution_count": 20,
   "metadata": {
    "colab": {
     "base_uri": "https://localhost:8080/"
    },
    "executionInfo": {
     "elapsed": 245,
     "status": "ok",
     "timestamp": 1621882093326,
     "user": {
      "displayName": "Lucia Merlo",
      "photoUrl": "https://lh3.googleusercontent.com/a-/AOh14GjoM3JGHSGTNe8FpnapRVZVepjE6IyPNNT9DOocgQ=s64",
      "userId": "10178920981326777222"
     },
     "user_tz": -120
    },
    "id": "E3wR3ulNac2c",
    "outputId": "b0329e78-6287-4f0d-a0ce-24f18d9873ed"
   },
   "outputs": [
    {
     "name": "stdout",
     "output_type": "stream",
     "text": [
      "Accuracy del modelo: 0.6334776334776335\n",
      "Media de f1-score con cross_validation:  0.26793186764905486\n",
      "Media de f1-score con cross_validation del test:  0.1761305235498877\n",
      "              precision    recall  f1-score   support\n",
      "\n",
      "           0       0.67      0.96      0.79       449\n",
      "           1       0.00      0.00      0.00       176\n",
      "           2       0.00      0.00      0.00        55\n",
      "           3       0.13      0.46      0.20        13\n",
      "\n",
      "    accuracy                           0.63       693\n",
      "   macro avg       0.20      0.36      0.25       693\n",
      "weighted avg       0.44      0.63      0.52       693\n",
      "\n"
     ]
    },
    {
     "name": "stderr",
     "output_type": "stream",
     "text": [
      "/usr/local/lib/python3.7/dist-packages/sklearn/metrics/_classification.py:1272: UndefinedMetricWarning: Precision and F-score are ill-defined and being set to 0.0 in labels with no predicted samples. Use `zero_division` parameter to control this behavior.\n",
      "  _warn_prf(average, modifier, msg_start, len(result))\n"
     ]
    }
   ],
   "source": [
    "#clf_searc_dt = tree.DecisionTreeClassifier(random_state = 0, class_weight=\"balanced\",\n",
    " #                                    max_depth = 1, criterion = \"gini\",splitter=\"random\")\n",
    "\n",
    "clf_searc_dt = tree.DecisionTreeClassifier(ccp_alpha=0.0, class_weight='balanced',\n",
    "                       criterion='entropy', max_depth=2, max_features=None,\n",
    "                       max_leaf_nodes=None, min_impurity_decrease=0.0,\n",
    "                       min_impurity_split=None, min_samples_leaf=1,\n",
    "                       min_samples_split=2, min_weight_fraction_leaf=0.0,\n",
    "                       presort='deprecated', random_state=0, splitter='random')\n",
    "\n",
    "clf_searc_dt.fit(X_train, y_train)\n",
    "y_pred_searc_dt = clf_searc_dt.predict(X_test)\n",
    "\n",
    "print(\"Accuracy del modelo:\", accuracy_score(y_test,y_pred_searc_dt))\n",
    "scores_dt = cross_val_score(clf_searc_dt, X_train, y_train, cv=5, scoring='f1_macro')\n",
    "print(\"Media de f1-score con cross_validation: \", scores_dt.mean())\n",
    "\n",
    "scores_dt_test = cross_val_score(clf_searc_dt, X_test, y_test, cv=5, scoring='f1_macro')\n",
    "\n",
    "print(\"Media de f1-score con cross_validation del test: \", scores_dt_test.mean())\n",
    "print(classification_report(y_test,y_pred_searc_dt))"
   ]
  },
  {
   "cell_type": "code",
   "execution_count": null,
   "metadata": {
    "id": "l8dXqJMoLlrn"
   },
   "outputs": [],
   "source": [
    "adc_pred_cem = pd.DataFrame()\n",
    "adc_pred_cem['predicho'] = y_pred_searc_dt\n"
   ]
  },
  {
   "cell_type": "markdown",
   "metadata": {
    "id": "seawaiNWac2d"
   },
   "source": [
    "#### SVM"
   ]
  },
  {
   "cell_type": "code",
   "execution_count": null,
   "metadata": {
    "colab": {
     "base_uri": "https://localhost:8080/"
    },
    "executionInfo": {
     "elapsed": 53728,
     "status": "ok",
     "timestamp": 1619952988921,
     "user": {
      "displayName": "Lucia Merlo",
      "photoUrl": "https://lh3.googleusercontent.com/a-/AOh14GjoM3JGHSGTNe8FpnapRVZVepjE6IyPNNT9DOocgQ=s64",
      "userId": "10178920981326777222"
     },
     "user_tz": -120
    },
    "id": "wx7D_MZsac2d",
    "outputId": "37200461-7167-481f-86f9-6ba457b80690"
   },
   "outputs": [
    {
     "data": {
      "text/plain": [
       "SVC(C=1, break_ties=False, cache_size=200, class_weight=None, coef0=0.0,\n",
       "    decision_function_shape='ovr', degree=3, gamma='scale', kernel='linear',\n",
       "    max_iter=-1, probability=False, random_state=None, shrinking=True,\n",
       "    tol=0.001, verbose=False)"
      ]
     },
     "execution_count": 48,
     "metadata": {
      "tags": []
     },
     "output_type": "execute_result"
    }
   ],
   "source": [
    "clf_search_svm = GridSearchCV(estimator=svm.SVC(),\n",
    "                              param_grid={'C': [1, 10],\n",
    "                                          'kernel': ('linear', 'rbf','poly','sigmoid')\n",
    "                                         })\n",
    "m_svm = clf_search_svm.fit(X_train, y_train)\n",
    "m_svm.best_estimator_"
   ]
  },
  {
   "cell_type": "code",
   "execution_count": 21,
   "metadata": {
    "colab": {
     "base_uri": "https://localhost:8080/"
    },
    "executionInfo": {
     "elapsed": 6551,
     "status": "ok",
     "timestamp": 1621882132812,
     "user": {
      "displayName": "Lucia Merlo",
      "photoUrl": "https://lh3.googleusercontent.com/a-/AOh14GjoM3JGHSGTNe8FpnapRVZVepjE6IyPNNT9DOocgQ=s64",
      "userId": "10178920981326777222"
     },
     "user_tz": -120
    },
    "id": "wd78JF88ac2d",
    "outputId": "faa0ec6a-eeef-4379-8847-2015fca90d96"
   },
   "outputs": [
    {
     "name": "stdout",
     "output_type": "stream",
     "text": [
      "Accuracy del modelo: 0.6666666666666666\n",
      "              precision    recall  f1-score   support\n",
      "\n",
      "           0       0.69      0.98      0.81       449\n",
      "           1       0.44      0.13      0.20       176\n",
      "           2       0.00      0.00      0.00        55\n",
      "           3       0.00      0.00      0.00        13\n",
      "\n",
      "    accuracy                           0.67       693\n",
      "   macro avg       0.28      0.28      0.25       693\n",
      "weighted avg       0.56      0.67      0.57       693\n",
      "\n"
     ]
    },
    {
     "name": "stderr",
     "output_type": "stream",
     "text": [
      "/usr/local/lib/python3.7/dist-packages/sklearn/metrics/_classification.py:1272: UndefinedMetricWarning: Precision and F-score are ill-defined and being set to 0.0 in labels with no predicted samples. Use `zero_division` parameter to control this behavior.\n",
      "  _warn_prf(average, modifier, msg_start, len(result))\n"
     ]
    },
    {
     "name": "stdout",
     "output_type": "stream",
     "text": [
      "Media de f1-score con cross_validation:  0.2724043410286597\n",
      "Media de f1-score con cross_validation del test:  0.23468291195028862\n"
     ]
    }
   ],
   "source": [
    "#clf_linear_svm = svm.SVC(kernel='linear',C=1,class_weight=\"balanced\")\n",
    "clf_linear_svm = svm.SVC(C=1, break_ties=False, cache_size=200, class_weight=None, coef0=0.0,\n",
    "    decision_function_shape='ovr', degree=3, gamma='scale', kernel='linear',\n",
    "    max_iter=-1, probability=False, random_state=None, shrinking=True,\n",
    "    tol=0.001, verbose=False)\n",
    "\n",
    "clf_linear_svm.fit(X_train, y_train)\n",
    "y_pred_linear_svm = clf_linear_svm.predict(X_test)\n",
    "\n",
    "print(\"Accuracy del modelo:\", accuracy_score(y_test,y_pred_linear_svm))\n",
    "print(classification_report(y_test,y_pred_linear_svm))\n",
    "\n",
    "scores_knn = cross_val_score(clf_linear_svm, X_train, y_train, cv=5, scoring='f1_macro')\n",
    "print(\"Media de f1-score con cross_validation: \", scores_knn.mean())\n",
    "\n",
    "scores_knn_test = cross_val_score(clf_linear_svm, X_test, y_test, cv=5, scoring='f1_macro')\n",
    "\n",
    "print(\"Media de f1-score con cross_validation del test: \", scores_knn_test.mean())"
   ]
  },
  {
   "cell_type": "markdown",
   "metadata": {
    "id": "SJUPiuUfac2d"
   },
   "source": [
    "#### Logistic regression"
   ]
  },
  {
   "cell_type": "code",
   "execution_count": null,
   "metadata": {
    "colab": {
     "base_uri": "https://localhost:8080/"
    },
    "executionInfo": {
     "elapsed": 266630,
     "status": "ok",
     "timestamp": 1619953428943,
     "user": {
      "displayName": "Lucia Merlo",
      "photoUrl": "https://lh3.googleusercontent.com/a-/AOh14GjoM3JGHSGTNe8FpnapRVZVepjE6IyPNNT9DOocgQ=s64",
      "userId": "10178920981326777222"
     },
     "user_tz": -120
    },
    "id": "1MVPyD5pac2d",
    "outputId": "8cd0caf0-d34f-419d-9c90-ba89c72ebb7b"
   },
   "outputs": [
    {
     "name": "stdout",
     "output_type": "stream",
     "text": [
      "Mejor: 0.701444 usando {'C': 1.0, 'penalty': 'l1', 'solver': 'liblinear'}\n"
     ]
    }
   ],
   "source": [
    "from scipy.stats import uniform, norm\n",
    "from sklearn.pipeline import Pipeline\n",
    "import numpy as np\n",
    "from sklearn.model_selection import RepeatedStratifiedKFold\n",
    "\n",
    "\n",
    "model = LogisticRegression()\n",
    "solvers = ['newton-cg', 'lbfgs', 'liblinear']\n",
    "penalty = ['l2','l1','elasticnet','none']\n",
    "c_values = [100, 10, 1.0, 0.1, 0.01]\n",
    "\n",
    "# define grid search\n",
    "\n",
    "grid = dict(solver=solvers,penalty=penalty,C=c_values)\n",
    "cv = RepeatedStratifiedKFold(n_splits=10, n_repeats=3, random_state=1)\n",
    "grid_search = GridSearchCV(estimator=model, param_grid=grid,\n",
    "                           n_jobs=-1, cv=cv, scoring='accuracy',error_score=0)\n",
    "grid_result = grid_search.fit(X_train, y_train)\n",
    "\n",
    "print(\"Mejor: %f usando %s\" % (grid_result.best_score_, grid_result.best_params_))"
   ]
  },
  {
   "cell_type": "code",
   "execution_count": 22,
   "metadata": {
    "executionInfo": {
     "elapsed": 208,
     "status": "ok",
     "timestamp": 1621882155874,
     "user": {
      "displayName": "Lucia Merlo",
      "photoUrl": "https://lh3.googleusercontent.com/a-/AOh14GjoM3JGHSGTNe8FpnapRVZVepjE6IyPNNT9DOocgQ=s64",
      "userId": "10178920981326777222"
     },
     "user_tz": -120
    },
    "id": "WYn79uX2ac2d"
   },
   "outputs": [],
   "source": [
    "clf_log_tun = LogisticRegression(random_state = 0, C=1,penalty='l1'\n",
    "                                 ,solver = 'liblinear',class_weight=\"balanced\")\n",
    "clf_log_tun.fit(X_train, y_train)\n",
    "y_pred_log_tun = clf_log_tun.predict(X_test)"
   ]
  },
  {
   "cell_type": "code",
   "execution_count": 23,
   "metadata": {
    "colab": {
     "base_uri": "https://localhost:8080/"
    },
    "executionInfo": {
     "elapsed": 713,
     "status": "ok",
     "timestamp": 1621882160313,
     "user": {
      "displayName": "Lucia Merlo",
      "photoUrl": "https://lh3.googleusercontent.com/a-/AOh14GjoM3JGHSGTNe8FpnapRVZVepjE6IyPNNT9DOocgQ=s64",
      "userId": "10178920981326777222"
     },
     "user_tz": -120
    },
    "id": "mTO4qquLac2e",
    "outputId": "8e466fa2-976d-422b-9b7c-92bf713cfb2e"
   },
   "outputs": [
    {
     "name": "stdout",
     "output_type": "stream",
     "text": [
      "Accuracy del modelo: 0.6681096681096681\n",
      "              precision    recall  f1-score   support\n",
      "\n",
      "           0       0.71      0.94      0.81       449\n",
      "           1       0.48      0.14      0.21       176\n",
      "           2       0.38      0.24      0.29        55\n",
      "           3       0.14      0.15      0.15        13\n",
      "\n",
      "    accuracy                           0.67       693\n",
      "   macro avg       0.43      0.37      0.37       693\n",
      "weighted avg       0.62      0.67      0.61       693\n",
      "\n",
      "Media de f1-score con cross_validation 0.3300414693660893\n",
      "Media de f1-score con cross_validation en test:  0.23027051021669856\n"
     ]
    }
   ],
   "source": [
    "scores_log_tun = cross_val_score(clf_log_tun, X_train, y_train, cv=5, scoring='f1_macro')\n",
    "print(\"Accuracy del modelo:\", accuracy_score(y_test,y_pred_log_tun))\n",
    "print(classification_report(y_test,y_pred_log_tun))\n",
    "print(\"Media de f1-score con cross_validation\", scores_log_tun.mean())\n",
    "\n",
    "scores_logistic_tun = cross_val_score(clf_log_tun, X_test, y_test, cv=5, scoring='f1_macro')\n",
    "\n",
    "print(\"Media de f1-score con cross_validation en test: \", scores_logistic_tun.mean())"
   ]
  },
  {
   "cell_type": "markdown",
   "metadata": {
    "id": "MDQ3ZUSUac2e"
   },
   "source": [
    "#### KNN"
   ]
  },
  {
   "cell_type": "code",
   "execution_count": null,
   "metadata": {},
   "outputs": [],
   "source": [
    "from sklearn.model_selection import RepeatedStratifiedKFold\n",
    "model = KNeighborsClassifier()\n",
    "vecinos = list(range(1,10))\n",
    "weights = ['uniform', 'distance']\n",
    "metric = ['euclidean', 'manhattan', 'minkowski']\n",
    "\n",
    "# define grid search\n",
    "grid = dict(n_neighbors=vecinos,weights=weights,metric=metric)\n",
    "cv = RepeatedStratifiedKFold(n_splits=10, n_repeats=3, random_state=1)\n",
    "\n",
    "grid_search = GridSearchCV(estimator=model, param_grid=grid, n_jobs=-1, \n",
    "                           cv=cv, scoring='accuracy',error_score=0)\n",
    "\n",
    "grid_result = grid_search.fit(X_train, y_train)\n",
    "\n",
    "# summarize results\n",
    "print(\"Best: %f using %s\" % (grid_result.best_score_, grid_result.best_params_))"
   ]
  },
  {
   "cell_type": "code",
   "execution_count": 25,
   "metadata": {
    "colab": {
     "base_uri": "https://localhost:8080/"
    },
    "executionInfo": {
     "elapsed": 779,
     "status": "ok",
     "timestamp": 1621882185845,
     "user": {
      "displayName": "Lucia Merlo",
      "photoUrl": "https://lh3.googleusercontent.com/a-/AOh14GjoM3JGHSGTNe8FpnapRVZVepjE6IyPNNT9DOocgQ=s64",
      "userId": "10178920981326777222"
     },
     "user_tz": -120
    },
    "id": "THhS04Taac2e",
    "outputId": "581dd7d8-642f-4f17-a9b9-1358c9cc6d19"
   },
   "outputs": [
    {
     "name": "stdout",
     "output_type": "stream",
     "text": [
      "Accuracy del modelo: 0.6594516594516594\n",
      "              precision    recall  f1-score   support\n",
      "\n",
      "           0       0.66      1.00      0.79       449\n",
      "           1       0.83      0.06      0.11       176\n",
      "           2       0.00      0.00      0.00        55\n",
      "           3       0.00      0.00      0.00        13\n",
      "\n",
      "    accuracy                           0.66       693\n",
      "   macro avg       0.37      0.26      0.22       693\n",
      "weighted avg       0.64      0.66      0.54       693\n",
      "\n",
      "Media de f1-score con cross_validation 0.2375762253566564\n"
     ]
    },
    {
     "name": "stderr",
     "output_type": "stream",
     "text": [
      "/usr/local/lib/python3.7/dist-packages/sklearn/metrics/_classification.py:1272: UndefinedMetricWarning: Precision and F-score are ill-defined and being set to 0.0 in labels with no predicted samples. Use `zero_division` parameter to control this behavior.\n",
      "  _warn_prf(average, modifier, msg_start, len(result))\n"
     ]
    },
    {
     "name": "stdout",
     "output_type": "stream",
     "text": [
      "Media de f1-score con cross_validation en test:  0.20797193553395737\n"
     ]
    }
   ],
   "source": [
    "clf_searc_knn = KNeighborsClassifier(n_neighbors = 3,\n",
    "                                     weights=\"uniform\",metric=\"euclidean\")\n",
    "\n",
    "clf_searc_knn.fit(X_train,y_train)\n",
    "y_pred_searc_knn = clf_searc_knn.predict(X_test)\n",
    "\n",
    "print(\"Accuracy del modelo:\", accuracy_score(y_test,y_pred_searc_knn))\n",
    "print(classification_report(y_test,y_pred_searc_knn))\n",
    "\n",
    "scores_searc_knn = cross_val_score(clf_searc_knn, X_train, y_train, \n",
    "                                   cv=5, scoring='f1_macro')\n",
    "print(\"Media de f1-score con cross_validation\", scores_searc_knn.mean())\n",
    "\n",
    "scores_searc_knn2 = cross_val_score(clf_searc_knn, X_test, y_test, \n",
    "                                    cv=5, scoring='f1_macro')\n",
    "print(\"Media de f1-score con cross_validation en test: \", scores_searc_knn2.mean())"
   ]
  },
  {
   "cell_type": "markdown",
   "metadata": {
    "id": "nCz0VhmKac2e"
   },
   "source": [
    "\n"
   ]
  },
  {
   "cell_type": "markdown",
   "metadata": {
    "id": "OLQmXGGC22Be"
   },
   "source": [
    "## Combinación de modelos"
   ]
  },
  {
   "cell_type": "markdown",
   "metadata": {
    "id": "rQ0af_OyQlcV"
   },
   "source": [
    "## Detección de toxicidad"
   ]
  },
  {
   "cell_type": "code",
   "execution_count": null,
   "metadata": {
    "id": "hw0cpLnxac2f"
   },
   "outputs": [],
   "source": [
    "y_comb = df['toxicity']\n",
    "X_comb = tfidf\n",
    "X_train_comb, X_test_comb,y_train_comb, y_test_comb = train_test_split(X_comb,\n",
    "                                              y_comb,\n",
    "                                                test_size = 0.2, \n",
    "                                                random_state = 0)"
   ]
  },
  {
   "cell_type": "markdown",
   "metadata": {
    "id": "x0O4G7iqycmJ"
   },
   "source": [
    "### Bagging"
   ]
  },
  {
   "cell_type": "code",
   "execution_count": null,
   "metadata": {
    "id": "_9kkHeAly8WV"
   },
   "outputs": [],
   "source": [
    "from sklearn.ensemble import BaggingClassifier\n",
    "m_bagging = BaggingClassifier(base_estimator=LogisticRegression(random_state = 0, C=10,penalty='l2'\n",
    "                                 ,solver = 'liblinear',class_weight=\"balanced\"),\n",
    "                               n_estimators=10)\n",
    "m_bagging.fit(X_train_comb, y_train_comb)\n",
    "m_pred_log = m_bagging.predict(X_test_comb)"
   ]
  },
  {
   "cell_type": "code",
   "execution_count": null,
   "metadata": {
    "colab": {
     "base_uri": "https://localhost:8080/"
    },
    "executionInfo": {
     "elapsed": 1894,
     "status": "ok",
     "timestamp": 1620744558899,
     "user": {
      "displayName": "Lucia Merlo",
      "photoUrl": "https://lh3.googleusercontent.com/a-/AOh14GjoM3JGHSGTNe8FpnapRVZVepjE6IyPNNT9DOocgQ=s64",
      "userId": "10178920981326777222"
     },
     "user_tz": -120
    },
    "id": "K7hpVBA0y8QI",
    "outputId": "437ef538-6f23-4420-d0a6-ce862f7bc566"
   },
   "outputs": [
    {
     "name": "stdout",
     "output_type": "stream",
     "text": [
      "Media de f1-score con cross_validation 0.6516730907188738\n",
      "Media de f1-score con cross_validation en test:  0.6074752812576284\n",
      "              precision    recall  f1-score   support\n",
      "\n",
      "           0       0.75      0.87      0.80       449\n",
      "           1       0.65      0.46      0.54       244\n",
      "\n",
      "    accuracy                           0.72       693\n",
      "   macro avg       0.70      0.66      0.67       693\n",
      "weighted avg       0.71      0.72      0.71       693\n",
      "\n"
     ]
    }
   ],
   "source": [
    "scores_comb_log = cross_val_score(m_bagging, X_train_comb, y_train_comb,\n",
    "                                  cv=5, scoring='f1_macro')\n",
    "print(\"Media de f1-score con cross_validation\", scores_comb_log.mean())\n",
    "scores_comb_log = cross_val_score(m_bagging, X_test_comb, y_test_comb, cv=5, scoring='f1_macro')\n",
    "\n",
    "print(\"Media de f1-score con cross_validation en test: \", scores_comb_log.mean())\n",
    "print(classification_report(y_test,m_pred_log))"
   ]
  },
  {
   "cell_type": "code",
   "execution_count": null,
   "metadata": {
    "id": "393qBS9_y8FH"
   },
   "outputs": [],
   "source": [
    "m_bagging_dt = BaggingClassifier(base_estimator=tree.DecisionTreeClassifier(ccp_alpha=0.0, class_weight='balanced',\n",
    "                       criterion='entropy', max_depth=2, max_features=None,\n",
    "                       max_leaf_nodes=None, min_impurity_decrease=0.0,\n",
    "                       min_impurity_split=None, min_samples_leaf=1,\n",
    "                       min_samples_split=2, min_weight_fraction_leaf=0.0,\n",
    "                       presort='deprecated', random_state=0, splitter='random'), n_estimators=10)\n",
    "\n",
    "m_bagging_dt.fit(X_train_comb, y_train_comb)\n",
    "m_pred_dt = m_bagging_dt.predict(X_test_comb)"
   ]
  },
  {
   "cell_type": "code",
   "execution_count": null,
   "metadata": {
    "colab": {
     "base_uri": "https://localhost:8080/"
    },
    "executionInfo": {
     "elapsed": 1638,
     "status": "ok",
     "timestamp": 1620746133869,
     "user": {
      "displayName": "Lucia Merlo",
      "photoUrl": "https://lh3.googleusercontent.com/a-/AOh14GjoM3JGHSGTNe8FpnapRVZVepjE6IyPNNT9DOocgQ=s64",
      "userId": "10178920981326777222"
     },
     "user_tz": -120
    },
    "id": "u4Jhsvdz_LQ4",
    "outputId": "d5514a39-3e00-4a90-a1b7-3e7444fa323b"
   },
   "outputs": [
    {
     "name": "stdout",
     "output_type": "stream",
     "text": [
      "Media de f1-score con cross_validation 0.5672954257580707\n",
      "Media de f1-score con cross_validation en test:  0.5276695920269814\n",
      "              precision    recall  f1-score   support\n",
      "\n",
      "           0       0.69      0.95      0.80       449\n",
      "           1       0.68      0.20      0.31       244\n",
      "\n",
      "    accuracy                           0.69       693\n",
      "   macro avg       0.68      0.57      0.55       693\n",
      "weighted avg       0.68      0.69      0.63       693\n",
      "\n"
     ]
    }
   ],
   "source": [
    "scores_comb_dt = cross_val_score(m_bagging_dt, X_train_comb, y_train_comb,\n",
    "                                  cv=5, scoring='f1_macro')\n",
    "print(\"Media de f1-score con cross_validation\", scores_comb_dt.mean())\n",
    "scores_comb_dt = cross_val_score(m_bagging_dt, X_test_comb, y_test_comb, cv=5, scoring='f1_macro')\n",
    "\n",
    "print(\"Media de f1-score con cross_validation en test: \", scores_comb_dt.mean())\n",
    "print(classification_report(y_test,m_pred_dt))"
   ]
  },
  {
   "cell_type": "markdown",
   "metadata": {
    "id": "SuGdNnml26w6"
   },
   "source": [
    "### Boosting"
   ]
  },
  {
   "cell_type": "code",
   "execution_count": null,
   "metadata": {
    "id": "Fb3aH1Hyy7_5"
   },
   "outputs": [],
   "source": [
    "from sklearn.ensemble import AdaBoostClassifier\n",
    "from sklearn.linear_model import LogisticRegression"
   ]
  },
  {
   "cell_type": "code",
   "execution_count": null,
   "metadata": {
    "id": "pchTKZAIy76r"
   },
   "outputs": [],
   "source": [
    "boosting = AdaBoostClassifier(base_estimator=LogisticRegression(random_state = 0, C=10,penalty='l2'\n",
    ",solver = 'liblinear',class_weight=\"balanced\"),n_estimators=100)\n",
    "boosting.fit(X_train_comb, y_train_comb)\n",
    "y_pred_boost = boosting.predict(X_test_comb)"
   ]
  },
  {
   "cell_type": "code",
   "execution_count": null,
   "metadata": {
    "colab": {
     "base_uri": "https://localhost:8080/"
    },
    "executionInfo": {
     "elapsed": 6037,
     "status": "ok",
     "timestamp": 1620744396546,
     "user": {
      "displayName": "Nora hl",
      "photoUrl": "https://lh3.googleusercontent.com/a-/AOh14Gjjm3p-SOF1W7ydI9Pd8nSkMWV-18RpOyooiyZ_=s64",
      "userId": "04992732489427498123"
     },
     "user_tz": -120
    },
    "id": "UBHKWf96y709",
    "outputId": "10ca12d4-5728-4bd4-a813-be42fc7c7bf0"
   },
   "outputs": [
    {
     "name": "stdout",
     "output_type": "stream",
     "text": [
      "Accuracy del modelo: 0.7085137085137085\n",
      "              precision    recall  f1-score   support\n",
      "\n",
      "           0       0.76      0.81      0.78       449\n",
      "           1       0.60      0.52      0.56       244\n",
      "\n",
      "    accuracy                           0.71       693\n",
      "   macro avg       0.68      0.67      0.67       693\n",
      "weighted avg       0.70      0.71      0.70       693\n",
      "\n",
      "Media de f1-score con cross_validation 0.6613159407504455\n",
      "Media de f1-score con cross_validation en test:  0.6292702645073429\n"
     ]
    }
   ],
   "source": [
    "cross_boosting = cross_val_score(boosting, X_train_comb, y_train_comb, cv=5, scoring='f1_macro')\n",
    "print(\"Accuracy del modelo:\", accuracy_score(y_test_comb,y_pred_boost))\n",
    "print(classification_report(y_test_comb,y_pred_boost))\n",
    "print(\"Media de f1-score con cross_validation\", cross_boosting.mean())\n",
    "\n",
    "scores_boosting = cross_val_score(boosting, X_test_comb, y_test_comb, cv=5, scoring='f1_macro')\n",
    "\n",
    "print(\"Media de f1-score con cross_validation en test: \", scores_boosting.mean())"
   ]
  },
  {
   "cell_type": "markdown",
   "metadata": {
    "id": "kwyQE6MK6HXk"
   },
   "source": [
    "### Random Forest"
   ]
  },
  {
   "cell_type": "code",
   "execution_count": null,
   "metadata": {
    "colab": {
     "base_uri": "https://localhost:8080/"
    },
    "executionInfo": {
     "elapsed": 842,
     "status": "ok",
     "timestamp": 1620745176392,
     "user": {
      "displayName": "Lucia Merlo",
      "photoUrl": "https://lh3.googleusercontent.com/a-/AOh14GjoM3JGHSGTNe8FpnapRVZVepjE6IyPNNT9DOocgQ=s64",
      "userId": "10178920981326777222"
     },
     "user_tz": -120
    },
    "id": "oQsLVQhdy7gJ",
    "outputId": "5b367aa5-078a-4469-90ef-2b7fc2f2786d"
   },
   "outputs": [
    {
     "name": "stdout",
     "output_type": "stream",
     "text": [
      "              precision    recall  f1-score   support\n",
      "\n",
      "           0       0.65      1.00      0.79       449\n",
      "           1       1.00      0.00      0.01       244\n",
      "\n",
      "    accuracy                           0.65       693\n",
      "   macro avg       0.82      0.50      0.40       693\n",
      "weighted avg       0.77      0.65      0.51       693\n",
      "\n",
      "Media de f1-score con cross_validation 0.41077932757271257\n",
      "Media de f1-score con cross_validation en test:  0.40018361993288554\n"
     ]
    }
   ],
   "source": [
    "from sklearn.ensemble import RandomForestClassifier\n",
    "m_rf = RandomForestClassifier(n_estimators=10, max_depth=6,random_state=0)\n",
    "m_rf.fit(X_train_comb, y_train_comb)\n",
    "y_pred_rf = m_rf.predict(X_test_comb)\n",
    "\n",
    "cross_rf = cross_val_score(m_rf, X_train_comb, y_train_comb, cv=5, scoring='f1_macro')\n",
    "print(classification_report(y_test_comb,y_pred_rf))\n",
    "print(\"Media de f1-score con cross_validation\", cross_rf.mean())\n",
    "\n",
    "scores_rf = cross_val_score(m_rf, X_test_comb, y_test_comb, cv=5, scoring='f1_macro')\n",
    "\n",
    "print(\"Media de f1-score con cross_validation en test: \", scores_rf.mean())"
   ]
  },
  {
   "cell_type": "markdown",
   "metadata": {
    "id": "ZFTRyD-18TKI"
   },
   "source": [
    "### XGBoost"
   ]
  },
  {
   "cell_type": "code",
   "execution_count": null,
   "metadata": {
    "id": "Qq-PTN-V8YN3"
   },
   "outputs": [],
   "source": [
    "from numpy import loadtxt\n",
    "from xgboost import XGBClassifier\n",
    "from sklearn.model_selection import train_test_split\n",
    "from sklearn.metrics import accuracy_score"
   ]
  },
  {
   "cell_type": "code",
   "execution_count": null,
   "metadata": {
    "colab": {
     "base_uri": "https://localhost:8080/"
    },
    "executionInfo": {
     "elapsed": 2038,
     "status": "ok",
     "timestamp": 1620751150775,
     "user": {
      "displayName": "Lucia Merlo",
      "photoUrl": "https://lh3.googleusercontent.com/a-/AOh14GjoM3JGHSGTNe8FpnapRVZVepjE6IyPNNT9DOocgQ=s64",
      "userId": "10178920981326777222"
     },
     "user_tz": -120
    },
    "id": "pIiCUXZa8YFD",
    "outputId": "89df5a76-5cdc-4741-82a6-2c9f19f414f9"
   },
   "outputs": [
    {
     "data": {
      "text/plain": [
       "XGBClassifier(base_score=0.5, booster='gbtree', colsample_bylevel=1,\n",
       "              colsample_bynode=1, colsample_bytree=1, gamma=0,\n",
       "              learning_rate=0.1, max_delta_step=0, max_depth=3,\n",
       "              min_child_weight=1, missing=None, n_estimators=100, n_jobs=1,\n",
       "              nthread=None, objective='binary:logistic', random_state=0,\n",
       "              reg_alpha=0, reg_lambda=1, scale_pos_weight=1, seed=None,\n",
       "              silent=None, subsample=1, verbosity=1)"
      ]
     },
     "execution_count": 56,
     "metadata": {
      "tags": []
     },
     "output_type": "execute_result"
    }
   ],
   "source": [
    "model_xg = XGBClassifier()\n",
    "model_xg.fit(X_train_comb, y_train_comb)"
   ]
  },
  {
   "cell_type": "code",
   "execution_count": null,
   "metadata": {
    "id": "2WkgeOZj8X9r"
   },
   "outputs": [],
   "source": [
    "pred_xg = model_xg.predict(X_test_comb)"
   ]
  },
  {
   "cell_type": "code",
   "execution_count": null,
   "metadata": {
    "colab": {
     "base_uri": "https://localhost:8080/"
    },
    "executionInfo": {
     "elapsed": 11399,
     "status": "ok",
     "timestamp": 1620751167752,
     "user": {
      "displayName": "Lucia Merlo",
      "photoUrl": "https://lh3.googleusercontent.com/a-/AOh14GjoM3JGHSGTNe8FpnapRVZVepjE6IyPNNT9DOocgQ=s64",
      "userId": "10178920981326777222"
     },
     "user_tz": -120
    },
    "id": "7OHDhaED8XzE",
    "outputId": "e4b9b2c8-bbdc-43b7-f14d-6cba89d6a2c4"
   },
   "outputs": [
    {
     "name": "stdout",
     "output_type": "stream",
     "text": [
      "              precision    recall  f1-score   support\n",
      "\n",
      "           0       0.70      0.96      0.81       449\n",
      "           1       0.79      0.26      0.39       244\n",
      "\n",
      "    accuracy                           0.71       693\n",
      "   macro avg       0.75      0.61      0.60       693\n",
      "weighted avg       0.73      0.71      0.66       693\n",
      "\n",
      "Media de f1-score con cross_validation 0.5950328195731487\n",
      "Media de f1-score con cross_validation en test:  0.5037391403101498\n"
     ]
    }
   ],
   "source": [
    "cross_xg = cross_val_score(model_xg, X_train_comb, y_train_comb, cv=5, scoring='f1_macro')\n",
    "print(classification_report(y_test_comb,pred_xg))\n",
    "print(\"Media de f1-score con cross_validation\", cross_xg.mean())\n",
    "scores_xg = cross_val_score(model_xg, X_test_comb, y_test_comb, cv=5, scoring='f1_macro')\n",
    "print(\"Media de f1-score con cross_validation en test: \", scores_xg.mean())\n"
   ]
  },
  {
   "cell_type": "markdown",
   "metadata": {
    "id": "TRhXlwt89jOs"
   },
   "source": [
    "### Stacking"
   ]
  },
  {
   "cell_type": "code",
   "execution_count": null,
   "metadata": {
    "id": "ExuBX-IR9i1D"
   },
   "outputs": [],
   "source": [
    "from sklearn.neural_network import MLPClassifier\n",
    "from sklearn.ensemble import StackingClassifier\n",
    "\n",
    "estimators = [('mlp', MLPClassifier(random_state=1, max_iter=300)),('svr', svm.SVC(C=1, break_ties=False, cache_size=200, class_weight=None, coef0=0.0,\n",
    "    decision_function_shape='ovr', degree=3, gamma='scale', kernel='linear',\n",
    "    max_iter=-1, probability=False, random_state=None, shrinking=True,\n",
    "    tol=0.001, verbose=False))]\n",
    "\n",
    "stacking = StackingClassifier(estimators=estimators, final_estimator=tree.DecisionTreeClassifier())\n",
    "stacking.fit(X_train_comb, y_train_comb)\n",
    "stack = stacking.predict(X_test_comb)"
   ]
  },
  {
   "cell_type": "code",
   "execution_count": null,
   "metadata": {
    "colab": {
     "base_uri": "https://localhost:8080/"
    },
    "executionInfo": {
     "elapsed": 849,
     "status": "ok",
     "timestamp": 1620748120063,
     "user": {
      "displayName": "Lucia Merlo",
      "photoUrl": "https://lh3.googleusercontent.com/a-/AOh14GjoM3JGHSGTNe8FpnapRVZVepjE6IyPNNT9DOocgQ=s64",
      "userId": "10178920981326777222"
     },
     "user_tz": -120
    },
    "id": "7mLR2BrL9hiU",
    "outputId": "bb7c3286-e571-488e-f7c8-81eb072ae32b"
   },
   "outputs": [
    {
     "name": "stdout",
     "output_type": "stream",
     "text": [
      "              precision    recall  f1-score   support\n",
      "\n",
      "           0       0.71      0.72      0.71       449\n",
      "           1       0.47      0.47      0.47       244\n",
      "\n",
      "    accuracy                           0.63       693\n",
      "   macro avg       0.59      0.59      0.59       693\n",
      "weighted avg       0.63      0.63      0.63       693\n",
      "\n",
      "Media de f1-score con cross_validation 0.589853128123402\n",
      "Media de f1-score con cross_validation en test:  0.5572715983397247\n"
     ]
    }
   ],
   "source": [
    "cross_stack = cross_val_score(stacking, X_train_comb, y_train_comb, cv=5, scoring='f1_macro')\n",
    "\n",
    "\n",
    "scores_stack = cross_val_score(stacking, X_test_comb, y_test_comb, cv=5, scoring='f1_macro')\n",
    "print(classification_report(y_test_comb,stack))\n",
    "print(\"Media de f1-score con cross_validation\", cross_stack.mean())\n",
    "print(\"Media de f1-score con cross_validation en test: \", scores_stack.mean())"
   ]
  },
  {
   "cell_type": "markdown",
   "metadata": {
    "id": "pFgF7nNaIpvi"
   },
   "source": [
    "## Niveles de toxicidad"
   ]
  },
  {
   "cell_type": "code",
   "execution_count": null,
   "metadata": {
    "id": "HawdwNfBImi6"
   },
   "outputs": [],
   "source": [
    "y_level = df['toxicity_level']\n",
    "X_level = tfidf\n",
    "X_train_level, X_test_level, y_train_level, y_test_level = train_test_split(X_level,y_level,test_size=0.2, random_state=0)"
   ]
  },
  {
   "cell_type": "markdown",
   "metadata": {
    "id": "CXU0k_jxIxGa"
   },
   "source": [
    "### Bagging"
   ]
  },
  {
   "cell_type": "code",
   "execution_count": null,
   "metadata": {
    "id": "EqXmXYSkImIT"
   },
   "outputs": [],
   "source": [
    "from sklearn.ensemble import BaggingClassifier\n",
    "m_bagging = BaggingClassifier(base_estimator=LogisticRegression(random_state = 0, C=10,penalty='l2'\n",
    "                                 ,solver = 'liblinear',class_weight=\"balanced\"),\n",
    "                               n_estimators=10)\n",
    "m_bagging.fit(X_train_level, y_train_level)\n",
    "m_pred_log = m_bagging.predict(X_test_level)"
   ]
  },
  {
   "cell_type": "code",
   "execution_count": null,
   "metadata": {
    "colab": {
     "base_uri": "https://localhost:8080/"
    },
    "executionInfo": {
     "elapsed": 3074,
     "status": "ok",
     "timestamp": 1620748755780,
     "user": {
      "displayName": "Lucia Merlo",
      "photoUrl": "https://lh3.googleusercontent.com/a-/AOh14GjoM3JGHSGTNe8FpnapRVZVepjE6IyPNNT9DOocgQ=s64",
      "userId": "10178920981326777222"
     },
     "user_tz": -120
    },
    "id": "bMFf49BGIl74",
    "outputId": "ebb78309-7353-418f-b70f-feb8184fa82f"
   },
   "outputs": [
    {
     "name": "stdout",
     "output_type": "stream",
     "text": [
      "Media de f1-score con cross_validation 0.31579558843432787\n",
      "Media de f1-score con cross_validation en test:  0.31579558843432787\n",
      "              precision    recall  f1-score   support\n",
      "\n",
      "           0       0.70      0.93      0.80       449\n",
      "           1       0.41      0.21      0.28       176\n",
      "           2       0.25      0.04      0.06        55\n",
      "           3       0.00      0.00      0.00        13\n",
      "\n",
      "    accuracy                           0.66       693\n",
      "   macro avg       0.34      0.29      0.29       693\n",
      "weighted avg       0.58      0.66      0.59       693\n",
      "\n"
     ]
    }
   ],
   "source": [
    "scores_level_log = cross_val_score(m_bagging, X_train_level, y_train_level,\n",
    "                                  cv=5, scoring='f1_macro')\n",
    "print(\"Media de f1-score con cross_validation\", scores_level_log.mean())\n",
    "scores_comb_log = cross_val_score(m_bagging, X_test_level, y_test_level, cv=5, scoring='f1_macro')\n",
    "\n",
    "print(\"Media de f1-score con cross_validation en test: \", scores_level_log.mean())\n",
    "print(classification_report(y_test_level,m_pred_log))"
   ]
  },
  {
   "cell_type": "markdown",
   "metadata": {
    "id": "vjhWL5cVI6OY"
   },
   "source": [
    "### Boosting"
   ]
  },
  {
   "cell_type": "code",
   "execution_count": null,
   "metadata": {
    "id": "zjdkUKkWIlwL"
   },
   "outputs": [],
   "source": [
    "from sklearn.ensemble import AdaBoostClassifier\n",
    "boosting = AdaBoostClassifier(base_estimator=LogisticRegression(random_state = 0, C=10,penalty='l2'\n",
    ",solver = 'liblinear',class_weight=\"balanced\"),n_estimators=100)\n",
    "boosting.fit(X_train_level, y_train_level)\n",
    "y_pred_boost = boosting.predict(X_test_level)"
   ]
  },
  {
   "cell_type": "code",
   "execution_count": null,
   "metadata": {
    "colab": {
     "base_uri": "https://localhost:8080/"
    },
    "executionInfo": {
     "elapsed": 9945,
     "status": "ok",
     "timestamp": 1620748806330,
     "user": {
      "displayName": "Lucia Merlo",
      "photoUrl": "https://lh3.googleusercontent.com/a-/AOh14GjoM3JGHSGTNe8FpnapRVZVepjE6IyPNNT9DOocgQ=s64",
      "userId": "10178920981326777222"
     },
     "user_tz": -120
    },
    "id": "VOYks3cSIliE",
    "outputId": "c0b098c7-f57e-42f9-8cce-aa4018e0375d"
   },
   "outputs": [
    {
     "name": "stdout",
     "output_type": "stream",
     "text": [
      "Accuracy del modelo: 0.658008658008658\n",
      "              precision    recall  f1-score   support\n",
      "\n",
      "           0       0.67      0.97      0.79       449\n",
      "           1       0.49      0.10      0.17       176\n",
      "           2       0.20      0.02      0.03        55\n",
      "           3       0.00      0.00      0.00        13\n",
      "\n",
      "    accuracy                           0.66       693\n",
      "   macro avg       0.34      0.27      0.25       693\n",
      "weighted avg       0.57      0.66      0.56       693\n",
      "\n",
      "Media de f1-score con cross_validation 0.28525106187767724\n"
     ]
    },
    {
     "name": "stderr",
     "output_type": "stream",
     "text": [
      "/usr/local/lib/python3.7/dist-packages/sklearn/metrics/_classification.py:1272: UndefinedMetricWarning: Precision and F-score are ill-defined and being set to 0.0 in labels with no predicted samples. Use `zero_division` parameter to control this behavior.\n",
      "  _warn_prf(average, modifier, msg_start, len(result))\n"
     ]
    },
    {
     "name": "stdout",
     "output_type": "stream",
     "text": [
      "Media de f1-score con cross_validation en test:  0.2317631766119695\n"
     ]
    }
   ],
   "source": [
    "cross_boosting = cross_val_score(boosting, X_train_level, y_train_level, cv=5, scoring='f1_macro')\n",
    "print(\"Accuracy del modelo:\", accuracy_score(y_test_level,y_pred_boost))\n",
    "print(classification_report(y_test_level,y_pred_boost))\n",
    "print(\"Media de f1-score con cross_validation\", cross_boosting.mean())\n",
    "\n",
    "scores_boosting = cross_val_score(boosting, X_test_level, y_test_level, cv=5, scoring='f1_macro')\n",
    "\n",
    "print(\"Media de f1-score con cross_validation en test: \", scores_boosting.mean())"
   ]
  },
  {
   "cell_type": "markdown",
   "metadata": {
    "id": "W8CBKEIPJDcs"
   },
   "source": [
    "### Random Forest"
   ]
  },
  {
   "cell_type": "code",
   "execution_count": null,
   "metadata": {
    "colab": {
     "base_uri": "https://localhost:8080/"
    },
    "executionInfo": {
     "elapsed": 875,
     "status": "ok",
     "timestamp": 1620752212776,
     "user": {
      "displayName": "Lucia Merlo",
      "photoUrl": "https://lh3.googleusercontent.com/a-/AOh14GjoM3JGHSGTNe8FpnapRVZVepjE6IyPNNT9DOocgQ=s64",
      "userId": "10178920981326777222"
     },
     "user_tz": -120
    },
    "id": "wcrGrQJcXAWm",
    "outputId": "584e33cc-1cdb-470e-ad68-b89abd728e12"
   },
   "outputs": [
    {
     "name": "stdout",
     "output_type": "stream",
     "text": [
      "              precision    recall  f1-score   support\n",
      "\n",
      "           0       0.65      1.00      0.79       449\n",
      "           1       0.00      0.00      0.00       176\n",
      "           2       0.00      0.00      0.00        55\n",
      "           3       0.00      0.00      0.00        13\n",
      "\n",
      "    accuracy                           0.65       693\n",
      "   macro avg       0.16      0.25      0.20       693\n",
      "weighted avg       0.42      0.65      0.51       693\n",
      "\n",
      "Media de f1-score con cross_validation 0.20142329725105088\n",
      "Media de f1-score con cross_validation en test:  0.19631885390331724\n"
     ]
    },
    {
     "name": "stderr",
     "output_type": "stream",
     "text": [
      "/usr/local/lib/python3.7/dist-packages/sklearn/metrics/_classification.py:1272: UndefinedMetricWarning: Precision and F-score are ill-defined and being set to 0.0 in labels with no predicted samples. Use `zero_division` parameter to control this behavior.\n",
      "  _warn_prf(average, modifier, msg_start, len(result))\n"
     ]
    }
   ],
   "source": [
    "from sklearn.ensemble import RandomForestClassifier\n",
    "m_rf = RandomForestClassifier(n_estimators=10, max_depth=6,random_state=0)\n",
    "m_rf.fit(X_train_level, y_train_level)\n",
    "y_pred_rf = m_rf.predict(X_test_level)\n",
    "\n",
    "cross_rf = cross_val_score(m_rf, X_train_level, y_train_level, cv=5, scoring='f1_macro')\n",
    "print(classification_report(y_test_level,y_pred_rf))\n",
    "print(\"Media de f1-score con cross_validation\", cross_rf.mean())\n",
    "\n",
    "scores_rf = cross_val_score(m_rf, X_test_level, y_test_level, cv=5, scoring='f1_macro')\n",
    "\n",
    "print(\"Media de f1-score con cross_validation en test: \", scores_rf.mean())"
   ]
  },
  {
   "cell_type": "markdown",
   "metadata": {
    "id": "Mw-dToblJLgw"
   },
   "source": [
    "### XGBoost"
   ]
  },
  {
   "cell_type": "code",
   "execution_count": null,
   "metadata": {
    "id": "cMZ7KRKjJMFE"
   },
   "outputs": [],
   "source": [
    "model_xg = XGBClassifier()\n",
    "model_xg.fit(X_train_level, y_train_level)\n",
    "pred_xg = model_xg.predict(X_test_level)"
   ]
  },
  {
   "cell_type": "code",
   "execution_count": null,
   "metadata": {
    "colab": {
     "base_uri": "https://localhost:8080/"
    },
    "executionInfo": {
     "elapsed": 40110,
     "status": "ok",
     "timestamp": 1620748859502,
     "user": {
      "displayName": "Lucia Merlo",
      "photoUrl": "https://lh3.googleusercontent.com/a-/AOh14GjoM3JGHSGTNe8FpnapRVZVepjE6IyPNNT9DOocgQ=s64",
      "userId": "10178920981326777222"
     },
     "user_tz": -120
    },
    "id": "y9HqVO5RJK_5",
    "outputId": "5e1dece9-cca6-492a-dc23-643152a1eb96"
   },
   "outputs": [
    {
     "name": "stdout",
     "output_type": "stream",
     "text": [
      "              precision    recall  f1-score   support\n",
      "\n",
      "           0       0.68      0.96      0.80       449\n",
      "           1       0.44      0.14      0.21       176\n",
      "           2       0.33      0.04      0.07        55\n",
      "           3       0.50      0.08      0.13        13\n",
      "\n",
      "    accuracy                           0.66       693\n",
      "   macro avg       0.49      0.30      0.30       693\n",
      "weighted avg       0.59      0.66      0.58       693\n",
      "\n",
      "Media de f1-score con cross_validation 0.3034461986954384\n",
      "Media de f1-score con cross_validation en test:  0.2743515596253923\n"
     ]
    }
   ],
   "source": [
    "cross_xg = cross_val_score(model_xg, X_train_level, y_train_level, cv=5, scoring='f1_macro')\n",
    "print(classification_report(y_test_level,pred_xg))\n",
    "print(\"Media de f1-score con cross_validation\", cross_xg.mean())\n",
    "\n",
    "scores_xg = cross_val_score(model_xg, X_test_level, y_test_level, cv=5, scoring='f1_macro')\n",
    "\n",
    "print(\"Media de f1-score con cross_validation en test: \", scores_xg.mean())"
   ]
  },
  {
   "cell_type": "markdown",
   "metadata": {
    "id": "zGOgbsX2JKnX"
   },
   "source": [
    "### Stacking"
   ]
  },
  {
   "cell_type": "code",
   "execution_count": null,
   "metadata": {
    "id": "POfqHj8iO2OS"
   },
   "outputs": [],
   "source": [
    "estimators = [('mlp', MLPClassifier(random_state=1, max_iter=300)),('svr', svm.SVC(C=1, break_ties=False, cache_size=200, class_weight=None, coef0=0.0,\n",
    "    decision_function_shape='ovr', degree=3, gamma='scale', kernel='linear',\n",
    "    max_iter=-1, probability=False, random_state=None, shrinking=True,\n",
    "    tol=0.001, verbose=False))]\n",
    "\n",
    "stacking = StackingClassifier(estimators=estimators, final_estimator=tree.DecisionTreeClassifier())\n",
    "stacking.fit(X_train_comb, y_train_comb)\n",
    "stack = stacking.predict(X_test_comb)"
   ]
  },
  {
   "cell_type": "code",
   "execution_count": null,
   "metadata": {
    "colab": {
     "base_uri": "https://localhost:8080/"
    },
    "executionInfo": {
     "elapsed": 861545,
     "status": "ok",
     "timestamp": 1620751142516,
     "user": {
      "displayName": "Lucia Merlo",
      "photoUrl": "https://lh3.googleusercontent.com/a-/AOh14GjoM3JGHSGTNe8FpnapRVZVepjE6IyPNNT9DOocgQ=s64",
      "userId": "10178920981326777222"
     },
     "user_tz": -120
    },
    "id": "FbAniqNiO1vz",
    "outputId": "740b6011-17f9-4143-dd70-cbc6516fc6c5"
   },
   "outputs": [
    {
     "name": "stdout",
     "output_type": "stream",
     "text": [
      "              precision    recall  f1-score   support\n",
      "\n",
      "           0       0.73      0.73      0.73       449\n",
      "           1       0.50      0.49      0.50       244\n",
      "\n",
      "    accuracy                           0.65       693\n",
      "   macro avg       0.61      0.61      0.61       693\n",
      "weighted avg       0.65      0.65      0.65       693\n",
      "\n",
      "Media de f1-score con cross_validation 0.5830567867769515\n",
      "Media de f1-score con cross_validation en test:  0.5485262356544693\n"
     ]
    }
   ],
   "source": [
    "cross_stack = cross_val_score(stacking, X_train_comb, y_train_comb, cv=5, scoring='f1_macro')\n",
    "\n",
    "\n",
    "scores_stack = cross_val_score(stacking, X_test_comb, y_test_comb, cv=5, scoring='f1_macro')\n",
    "print(classification_report(y_test_comb,stack))\n",
    "print(\"Media de f1-score con cross_validation\", cross_stack.mean())\n",
    "print(\"Media de f1-score con cross_validation en test: \", scores_stack.mean())"
   ]
  }
 ],
 "metadata": {
  "accelerator": "GPU",
  "colab": {
   "collapsed_sections": [
    "wtp1kG1Iac2T",
    "6FUZ3rZKac2U",
    "2zWZgbj8ac2V",
    "Azh9bvhiac2X",
    "rgkgmFAdac2Z"
   ],
   "name": "Proyecto_académico_LNR.ipynb",
   "provenance": [],
   "toc_visible": true
  },
  "kernelspec": {
   "display_name": "Python 3",
   "language": "python",
   "name": "python3"
  },
  "language_info": {
   "codemirror_mode": {
    "name": "ipython",
    "version": 3
   },
   "file_extension": ".py",
   "mimetype": "text/x-python",
   "name": "python",
   "nbconvert_exporter": "python",
   "pygments_lexer": "ipython3",
   "version": "3.8.5"
  }
 },
 "nbformat": 4,
 "nbformat_minor": 1
}
